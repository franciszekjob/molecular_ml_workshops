{
 "cells": [
  {
   "cell_type": "markdown",
   "id": "3b484b21-037f-4538-a86c-fa330ab70b9e",
   "metadata": {
    "collapsed": true
   },
   "source": [
    "# RDKit introduction"
   ]
  },
  {
   "cell_type": "markdown",
   "id": "bb8cae79-c856-4a14-bc70-9a5ca268de93",
   "metadata": {},
   "source": [
    "Install dependencies if necessary (uncomment and run):"
   ]
  },
  {
   "cell_type": "code",
   "execution_count": 61,
   "id": "dca19722-a442-4d24-8d61-77ab7274bc5b",
   "metadata": {
    "ExecuteTime": {
     "end_time": "2025-02-23T12:55:57.291059Z",
     "start_time": "2025-02-23T12:55:56.157077Z"
    }
   },
   "outputs": [
    {
     "name": "stdout",
     "output_type": "stream",
     "text": [
      "Requirement already satisfied: lightgbm in /Users/franciszekjob/Library/Caches/pypoetry/virtualenvs/molecular-ml-workshops-HCPKL7WN-py3.12/lib/python3.12/site-packages (from -r requirements.txt (line 1)) (4.5.0)\r\n",
      "Requirement already satisfied: jupyter in /Users/franciszekjob/Library/Caches/pypoetry/virtualenvs/molecular-ml-workshops-HCPKL7WN-py3.12/lib/python3.12/site-packages (from -r requirements.txt (line 2)) (1.1.1)\r\n",
      "Requirement already satisfied: matplotlib in /Users/franciszekjob/Library/Caches/pypoetry/virtualenvs/molecular-ml-workshops-HCPKL7WN-py3.12/lib/python3.12/site-packages (from -r requirements.txt (line 3)) (3.9.2)\r\n",
      "Requirement already satisfied: pandas in /Users/franciszekjob/Library/Caches/pypoetry/virtualenvs/molecular-ml-workshops-HCPKL7WN-py3.12/lib/python3.12/site-packages (from -r requirements.txt (line 4)) (2.2.3)\r\n",
      "Requirement already satisfied: pyarrow in /Users/franciszekjob/Library/Caches/pypoetry/virtualenvs/molecular-ml-workshops-HCPKL7WN-py3.12/lib/python3.12/site-packages (from -r requirements.txt (line 5)) (18.0.0)\r\n",
      "Requirement already satisfied: scikit-fingerprints in /Users/franciszekjob/Library/Caches/pypoetry/virtualenvs/molecular-ml-workshops-HCPKL7WN-py3.12/lib/python3.12/site-packages (from -r requirements.txt (line 6)) (1.11.0)\r\n",
      "Requirement already satisfied: scikit-learn in /Users/franciszekjob/Library/Caches/pypoetry/virtualenvs/molecular-ml-workshops-HCPKL7WN-py3.12/lib/python3.12/site-packages (from -r requirements.txt (line 7)) (1.5.2)\r\n",
      "Requirement already satisfied: numpy>=1.17.0 in /Users/franciszekjob/Library/Caches/pypoetry/virtualenvs/molecular-ml-workshops-HCPKL7WN-py3.12/lib/python3.12/site-packages (from lightgbm->-r requirements.txt (line 1)) (1.26.4)\r\n",
      "Requirement already satisfied: scipy in /Users/franciszekjob/Library/Caches/pypoetry/virtualenvs/molecular-ml-workshops-HCPKL7WN-py3.12/lib/python3.12/site-packages (from lightgbm->-r requirements.txt (line 1)) (1.14.1)\r\n",
      "Requirement already satisfied: notebook in /Users/franciszekjob/Library/Caches/pypoetry/virtualenvs/molecular-ml-workshops-HCPKL7WN-py3.12/lib/python3.12/site-packages (from jupyter->-r requirements.txt (line 2)) (7.0.7)\r\n",
      "Requirement already satisfied: jupyter-console in /Users/franciszekjob/Library/Caches/pypoetry/virtualenvs/molecular-ml-workshops-HCPKL7WN-py3.12/lib/python3.12/site-packages (from jupyter->-r requirements.txt (line 2)) (6.6.3)\r\n",
      "Requirement already satisfied: nbconvert in /Users/franciszekjob/Library/Caches/pypoetry/virtualenvs/molecular-ml-workshops-HCPKL7WN-py3.12/lib/python3.12/site-packages (from jupyter->-r requirements.txt (line 2)) (7.16.4)\r\n",
      "Requirement already satisfied: ipykernel in /Users/franciszekjob/Library/Caches/pypoetry/virtualenvs/molecular-ml-workshops-HCPKL7WN-py3.12/lib/python3.12/site-packages (from jupyter->-r requirements.txt (line 2)) (6.29.5)\r\n",
      "Requirement already satisfied: ipywidgets in /Users/franciszekjob/Library/Caches/pypoetry/virtualenvs/molecular-ml-workshops-HCPKL7WN-py3.12/lib/python3.12/site-packages (from jupyter->-r requirements.txt (line 2)) (8.1.5)\r\n",
      "Requirement already satisfied: jupyterlab in /Users/franciszekjob/Library/Caches/pypoetry/virtualenvs/molecular-ml-workshops-HCPKL7WN-py3.12/lib/python3.12/site-packages (from jupyter->-r requirements.txt (line 2)) (4.3.0)\r\n",
      "Requirement already satisfied: contourpy>=1.0.1 in /Users/franciszekjob/Library/Caches/pypoetry/virtualenvs/molecular-ml-workshops-HCPKL7WN-py3.12/lib/python3.12/site-packages (from matplotlib->-r requirements.txt (line 3)) (1.3.0)\r\n",
      "Requirement already satisfied: cycler>=0.10 in /Users/franciszekjob/Library/Caches/pypoetry/virtualenvs/molecular-ml-workshops-HCPKL7WN-py3.12/lib/python3.12/site-packages (from matplotlib->-r requirements.txt (line 3)) (0.12.1)\r\n",
      "Requirement already satisfied: fonttools>=4.22.0 in /Users/franciszekjob/Library/Caches/pypoetry/virtualenvs/molecular-ml-workshops-HCPKL7WN-py3.12/lib/python3.12/site-packages (from matplotlib->-r requirements.txt (line 3)) (4.54.1)\r\n",
      "Requirement already satisfied: kiwisolver>=1.3.1 in /Users/franciszekjob/Library/Caches/pypoetry/virtualenvs/molecular-ml-workshops-HCPKL7WN-py3.12/lib/python3.12/site-packages (from matplotlib->-r requirements.txt (line 3)) (1.4.7)\r\n",
      "Requirement already satisfied: packaging>=20.0 in /Users/franciszekjob/Library/Caches/pypoetry/virtualenvs/molecular-ml-workshops-HCPKL7WN-py3.12/lib/python3.12/site-packages (from matplotlib->-r requirements.txt (line 3)) (24.2)\r\n",
      "Requirement already satisfied: pillow>=8 in /Users/franciszekjob/Library/Caches/pypoetry/virtualenvs/molecular-ml-workshops-HCPKL7WN-py3.12/lib/python3.12/site-packages (from matplotlib->-r requirements.txt (line 3)) (11.0.0)\r\n",
      "Requirement already satisfied: pyparsing>=2.3.1 in /Users/franciszekjob/Library/Caches/pypoetry/virtualenvs/molecular-ml-workshops-HCPKL7WN-py3.12/lib/python3.12/site-packages (from matplotlib->-r requirements.txt (line 3)) (3.2.0)\r\n",
      "Requirement already satisfied: python-dateutil>=2.7 in /Users/franciszekjob/Library/Caches/pypoetry/virtualenvs/molecular-ml-workshops-HCPKL7WN-py3.12/lib/python3.12/site-packages (from matplotlib->-r requirements.txt (line 3)) (2.9.0.post0)\r\n",
      "Requirement already satisfied: pytz>=2020.1 in /Users/franciszekjob/Library/Caches/pypoetry/virtualenvs/molecular-ml-workshops-HCPKL7WN-py3.12/lib/python3.12/site-packages (from pandas->-r requirements.txt (line 4)) (2024.2)\r\n",
      "Requirement already satisfied: tzdata>=2022.7 in /Users/franciszekjob/Library/Caches/pypoetry/virtualenvs/molecular-ml-workshops-HCPKL7WN-py3.12/lib/python3.12/site-packages (from pandas->-r requirements.txt (line 4)) (2024.2)\r\n",
      "Requirement already satisfied: datasketch in /Users/franciszekjob/Library/Caches/pypoetry/virtualenvs/molecular-ml-workshops-HCPKL7WN-py3.12/lib/python3.12/site-packages (from scikit-fingerprints->-r requirements.txt (line 6)) (1.6.5)\r\n",
      "Requirement already satisfied: descriptastorus in /Users/franciszekjob/Library/Caches/pypoetry/virtualenvs/molecular-ml-workshops-HCPKL7WN-py3.12/lib/python3.12/site-packages (from scikit-fingerprints->-r requirements.txt (line 6)) (2.8.0)\r\n",
      "Requirement already satisfied: e3fp in /Users/franciszekjob/Library/Caches/pypoetry/virtualenvs/molecular-ml-workshops-HCPKL7WN-py3.12/lib/python3.12/site-packages (from scikit-fingerprints->-r requirements.txt (line 6)) (1.2.5)\r\n",
      "Requirement already satisfied: huggingface_hub in /Users/franciszekjob/Library/Caches/pypoetry/virtualenvs/molecular-ml-workshops-HCPKL7WN-py3.12/lib/python3.12/site-packages (from scikit-fingerprints->-r requirements.txt (line 6)) (0.26.2)\r\n",
      "Requirement already satisfied: joblib in /Users/franciszekjob/Library/Caches/pypoetry/virtualenvs/molecular-ml-workshops-HCPKL7WN-py3.12/lib/python3.12/site-packages (from scikit-fingerprints->-r requirements.txt (line 6)) (1.4.2)\r\n",
      "Requirement already satisfied: mordredcommunity in /Users/franciszekjob/Library/Caches/pypoetry/virtualenvs/molecular-ml-workshops-HCPKL7WN-py3.12/lib/python3.12/site-packages (from scikit-fingerprints->-r requirements.txt (line 6)) (2.0.6)\r\n",
      "Requirement already satisfied: numba>=0.48.0 in /Users/franciszekjob/Library/Caches/pypoetry/virtualenvs/molecular-ml-workshops-HCPKL7WN-py3.12/lib/python3.12/site-packages (from scikit-fingerprints->-r requirements.txt (line 6)) (0.60.0)\r\n",
      "Requirement already satisfied: rdkit<=2024.3.3 in /Users/franciszekjob/Library/Caches/pypoetry/virtualenvs/molecular-ml-workshops-HCPKL7WN-py3.12/lib/python3.12/site-packages (from scikit-fingerprints->-r requirements.txt (line 6)) (2024.3.3)\r\n",
      "Requirement already satisfied: tqdm in /Users/franciszekjob/Library/Caches/pypoetry/virtualenvs/molecular-ml-workshops-HCPKL7WN-py3.12/lib/python3.12/site-packages (from scikit-fingerprints->-r requirements.txt (line 6)) (4.67.0)\r\n",
      "Requirement already satisfied: threadpoolctl>=3.1.0 in /Users/franciszekjob/Library/Caches/pypoetry/virtualenvs/molecular-ml-workshops-HCPKL7WN-py3.12/lib/python3.12/site-packages (from scikit-learn->-r requirements.txt (line 7)) (3.5.0)\r\n",
      "Requirement already satisfied: llvmlite<0.44,>=0.43.0dev0 in /Users/franciszekjob/Library/Caches/pypoetry/virtualenvs/molecular-ml-workshops-HCPKL7WN-py3.12/lib/python3.12/site-packages (from numba>=0.48.0->scikit-fingerprints->-r requirements.txt (line 6)) (0.43.0)\r\n",
      "Requirement already satisfied: six>=1.5 in /Users/franciszekjob/Library/Caches/pypoetry/virtualenvs/molecular-ml-workshops-HCPKL7WN-py3.12/lib/python3.12/site-packages (from python-dateutil>=2.7->matplotlib->-r requirements.txt (line 3)) (1.16.0)\r\n",
      "Requirement already satisfied: pandas-flavor in /Users/franciszekjob/Library/Caches/pypoetry/virtualenvs/molecular-ml-workshops-HCPKL7WN-py3.12/lib/python3.12/site-packages (from descriptastorus->scikit-fingerprints->-r requirements.txt (line 6)) (0.6.0)\r\n",
      "Requirement already satisfied: mmh3>=2.3.1 in /Users/franciszekjob/Library/Caches/pypoetry/virtualenvs/molecular-ml-workshops-HCPKL7WN-py3.12/lib/python3.12/site-packages (from e3fp->scikit-fingerprints->-r requirements.txt (line 6)) (5.0.1)\r\n",
      "Requirement already satisfied: sdaxen-python-utilities>=0.1.5 in /Users/franciszekjob/Library/Caches/pypoetry/virtualenvs/molecular-ml-workshops-HCPKL7WN-py3.12/lib/python3.12/site-packages (from e3fp->scikit-fingerprints->-r requirements.txt (line 6)) (0.1.5)\r\n",
      "Requirement already satisfied: smart-open>=1.8.3 in /Users/franciszekjob/Library/Caches/pypoetry/virtualenvs/molecular-ml-workshops-HCPKL7WN-py3.12/lib/python3.12/site-packages (from e3fp->scikit-fingerprints->-r requirements.txt (line 6)) (7.0.5)\r\n",
      "Requirement already satisfied: filelock in /Users/franciszekjob/Library/Caches/pypoetry/virtualenvs/molecular-ml-workshops-HCPKL7WN-py3.12/lib/python3.12/site-packages (from huggingface_hub->scikit-fingerprints->-r requirements.txt (line 6)) (3.16.1)\r\n",
      "Requirement already satisfied: fsspec>=2023.5.0 in /Users/franciszekjob/Library/Caches/pypoetry/virtualenvs/molecular-ml-workshops-HCPKL7WN-py3.12/lib/python3.12/site-packages (from huggingface_hub->scikit-fingerprints->-r requirements.txt (line 6)) (2024.10.0)\r\n",
      "Requirement already satisfied: pyyaml>=5.1 in /Users/franciszekjob/Library/Caches/pypoetry/virtualenvs/molecular-ml-workshops-HCPKL7WN-py3.12/lib/python3.12/site-packages (from huggingface_hub->scikit-fingerprints->-r requirements.txt (line 6)) (6.0.2)\r\n",
      "Requirement already satisfied: requests in /Users/franciszekjob/Library/Caches/pypoetry/virtualenvs/molecular-ml-workshops-HCPKL7WN-py3.12/lib/python3.12/site-packages (from huggingface_hub->scikit-fingerprints->-r requirements.txt (line 6)) (2.32.3)\r\n",
      "Requirement already satisfied: typing-extensions>=3.7.4.3 in /Users/franciszekjob/Library/Caches/pypoetry/virtualenvs/molecular-ml-workshops-HCPKL7WN-py3.12/lib/python3.12/site-packages (from huggingface_hub->scikit-fingerprints->-r requirements.txt (line 6)) (4.12.2)\r\n",
      "Requirement already satisfied: appnope in /Users/franciszekjob/Library/Caches/pypoetry/virtualenvs/molecular-ml-workshops-HCPKL7WN-py3.12/lib/python3.12/site-packages (from ipykernel->jupyter->-r requirements.txt (line 2)) (0.1.4)\r\n",
      "Requirement already satisfied: comm>=0.1.1 in /Users/franciszekjob/Library/Caches/pypoetry/virtualenvs/molecular-ml-workshops-HCPKL7WN-py3.12/lib/python3.12/site-packages (from ipykernel->jupyter->-r requirements.txt (line 2)) (0.2.2)\r\n",
      "Requirement already satisfied: debugpy>=1.6.5 in /Users/franciszekjob/Library/Caches/pypoetry/virtualenvs/molecular-ml-workshops-HCPKL7WN-py3.12/lib/python3.12/site-packages (from ipykernel->jupyter->-r requirements.txt (line 2)) (1.8.8)\r\n",
      "Requirement already satisfied: ipython>=7.23.1 in /Users/franciszekjob/Library/Caches/pypoetry/virtualenvs/molecular-ml-workshops-HCPKL7WN-py3.12/lib/python3.12/site-packages (from ipykernel->jupyter->-r requirements.txt (line 2)) (8.29.0)\r\n",
      "Requirement already satisfied: jupyter-client>=6.1.12 in /Users/franciszekjob/Library/Caches/pypoetry/virtualenvs/molecular-ml-workshops-HCPKL7WN-py3.12/lib/python3.12/site-packages (from ipykernel->jupyter->-r requirements.txt (line 2)) (8.6.3)\r\n",
      "Requirement already satisfied: jupyter-core!=5.0.*,>=4.12 in /Users/franciszekjob/Library/Caches/pypoetry/virtualenvs/molecular-ml-workshops-HCPKL7WN-py3.12/lib/python3.12/site-packages (from ipykernel->jupyter->-r requirements.txt (line 2)) (5.7.2)\r\n",
      "Requirement already satisfied: matplotlib-inline>=0.1 in /Users/franciszekjob/Library/Caches/pypoetry/virtualenvs/molecular-ml-workshops-HCPKL7WN-py3.12/lib/python3.12/site-packages (from ipykernel->jupyter->-r requirements.txt (line 2)) (0.1.7)\r\n",
      "Requirement already satisfied: nest-asyncio in /Users/franciszekjob/Library/Caches/pypoetry/virtualenvs/molecular-ml-workshops-HCPKL7WN-py3.12/lib/python3.12/site-packages (from ipykernel->jupyter->-r requirements.txt (line 2)) (1.6.0)\r\n",
      "Requirement already satisfied: psutil in /Users/franciszekjob/Library/Caches/pypoetry/virtualenvs/molecular-ml-workshops-HCPKL7WN-py3.12/lib/python3.12/site-packages (from ipykernel->jupyter->-r requirements.txt (line 2)) (6.1.0)\r\n",
      "Requirement already satisfied: pyzmq>=24 in /Users/franciszekjob/Library/Caches/pypoetry/virtualenvs/molecular-ml-workshops-HCPKL7WN-py3.12/lib/python3.12/site-packages (from ipykernel->jupyter->-r requirements.txt (line 2)) (26.2.0)\r\n",
      "Requirement already satisfied: tornado>=6.1 in /Users/franciszekjob/Library/Caches/pypoetry/virtualenvs/molecular-ml-workshops-HCPKL7WN-py3.12/lib/python3.12/site-packages (from ipykernel->jupyter->-r requirements.txt (line 2)) (6.4.1)\r\n",
      "Requirement already satisfied: traitlets>=5.4.0 in /Users/franciszekjob/Library/Caches/pypoetry/virtualenvs/molecular-ml-workshops-HCPKL7WN-py3.12/lib/python3.12/site-packages (from ipykernel->jupyter->-r requirements.txt (line 2)) (5.14.3)\r\n",
      "Requirement already satisfied: widgetsnbextension~=4.0.12 in /Users/franciszekjob/Library/Caches/pypoetry/virtualenvs/molecular-ml-workshops-HCPKL7WN-py3.12/lib/python3.12/site-packages (from ipywidgets->jupyter->-r requirements.txt (line 2)) (4.0.13)\r\n",
      "Requirement already satisfied: jupyterlab-widgets~=3.0.12 in /Users/franciszekjob/Library/Caches/pypoetry/virtualenvs/molecular-ml-workshops-HCPKL7WN-py3.12/lib/python3.12/site-packages (from ipywidgets->jupyter->-r requirements.txt (line 2)) (3.0.13)\r\n",
      "Requirement already satisfied: prompt-toolkit>=3.0.30 in /Users/franciszekjob/Library/Caches/pypoetry/virtualenvs/molecular-ml-workshops-HCPKL7WN-py3.12/lib/python3.12/site-packages (from jupyter-console->jupyter->-r requirements.txt (line 2)) (3.0.48)\r\n",
      "Requirement already satisfied: pygments in /Users/franciszekjob/Library/Caches/pypoetry/virtualenvs/molecular-ml-workshops-HCPKL7WN-py3.12/lib/python3.12/site-packages (from jupyter-console->jupyter->-r requirements.txt (line 2)) (2.18.0)\r\n",
      "Requirement already satisfied: async-lru>=1.0.0 in /Users/franciszekjob/Library/Caches/pypoetry/virtualenvs/molecular-ml-workshops-HCPKL7WN-py3.12/lib/python3.12/site-packages (from jupyterlab->jupyter->-r requirements.txt (line 2)) (2.0.4)\r\n",
      "Requirement already satisfied: httpx>=0.25.0 in /Users/franciszekjob/Library/Caches/pypoetry/virtualenvs/molecular-ml-workshops-HCPKL7WN-py3.12/lib/python3.12/site-packages (from jupyterlab->jupyter->-r requirements.txt (line 2)) (0.27.2)\r\n",
      "Requirement already satisfied: jinja2>=3.0.3 in /Users/franciszekjob/Library/Caches/pypoetry/virtualenvs/molecular-ml-workshops-HCPKL7WN-py3.12/lib/python3.12/site-packages (from jupyterlab->jupyter->-r requirements.txt (line 2)) (3.1.4)\r\n",
      "Requirement already satisfied: jupyter-lsp>=2.0.0 in /Users/franciszekjob/Library/Caches/pypoetry/virtualenvs/molecular-ml-workshops-HCPKL7WN-py3.12/lib/python3.12/site-packages (from jupyterlab->jupyter->-r requirements.txt (line 2)) (2.2.5)\r\n",
      "Requirement already satisfied: jupyter-server<3,>=2.4.0 in /Users/franciszekjob/Library/Caches/pypoetry/virtualenvs/molecular-ml-workshops-HCPKL7WN-py3.12/lib/python3.12/site-packages (from jupyterlab->jupyter->-r requirements.txt (line 2)) (2.14.2)\r\n",
      "Requirement already satisfied: jupyterlab-server<3,>=2.27.1 in /Users/franciszekjob/Library/Caches/pypoetry/virtualenvs/molecular-ml-workshops-HCPKL7WN-py3.12/lib/python3.12/site-packages (from jupyterlab->jupyter->-r requirements.txt (line 2)) (2.27.3)\r\n",
      "Requirement already satisfied: notebook-shim>=0.2 in /Users/franciszekjob/Library/Caches/pypoetry/virtualenvs/molecular-ml-workshops-HCPKL7WN-py3.12/lib/python3.12/site-packages (from jupyterlab->jupyter->-r requirements.txt (line 2)) (0.2.4)\r\n",
      "Requirement already satisfied: setuptools>=40.1.0 in /Users/franciszekjob/Library/Caches/pypoetry/virtualenvs/molecular-ml-workshops-HCPKL7WN-py3.12/lib/python3.12/site-packages (from jupyterlab->jupyter->-r requirements.txt (line 2)) (75.3.0)\r\n",
      "Requirement already satisfied: networkx in /Users/franciszekjob/Library/Caches/pypoetry/virtualenvs/molecular-ml-workshops-HCPKL7WN-py3.12/lib/python3.12/site-packages (from mordredcommunity->scikit-fingerprints->-r requirements.txt (line 6)) (3.4.2)\r\n",
      "Requirement already satisfied: beautifulsoup4 in /Users/franciszekjob/Library/Caches/pypoetry/virtualenvs/molecular-ml-workshops-HCPKL7WN-py3.12/lib/python3.12/site-packages (from nbconvert->jupyter->-r requirements.txt (line 2)) (4.12.3)\r\n",
      "Requirement already satisfied: bleach!=5.0.0 in /Users/franciszekjob/Library/Caches/pypoetry/virtualenvs/molecular-ml-workshops-HCPKL7WN-py3.12/lib/python3.12/site-packages (from nbconvert->jupyter->-r requirements.txt (line 2)) (6.2.0)\r\n",
      "Requirement already satisfied: defusedxml in /Users/franciszekjob/Library/Caches/pypoetry/virtualenvs/molecular-ml-workshops-HCPKL7WN-py3.12/lib/python3.12/site-packages (from nbconvert->jupyter->-r requirements.txt (line 2)) (0.7.1)\r\n",
      "Requirement already satisfied: jupyterlab-pygments in /Users/franciszekjob/Library/Caches/pypoetry/virtualenvs/molecular-ml-workshops-HCPKL7WN-py3.12/lib/python3.12/site-packages (from nbconvert->jupyter->-r requirements.txt (line 2)) (0.3.0)\r\n",
      "Requirement already satisfied: markupsafe>=2.0 in /Users/franciszekjob/Library/Caches/pypoetry/virtualenvs/molecular-ml-workshops-HCPKL7WN-py3.12/lib/python3.12/site-packages (from nbconvert->jupyter->-r requirements.txt (line 2)) (3.0.2)\r\n",
      "Requirement already satisfied: mistune<4,>=2.0.3 in /Users/franciszekjob/Library/Caches/pypoetry/virtualenvs/molecular-ml-workshops-HCPKL7WN-py3.12/lib/python3.12/site-packages (from nbconvert->jupyter->-r requirements.txt (line 2)) (3.0.2)\r\n",
      "Requirement already satisfied: nbclient>=0.5.0 in /Users/franciszekjob/Library/Caches/pypoetry/virtualenvs/molecular-ml-workshops-HCPKL7WN-py3.12/lib/python3.12/site-packages (from nbconvert->jupyter->-r requirements.txt (line 2)) (0.10.0)\r\n",
      "Requirement already satisfied: nbformat>=5.7 in /Users/franciszekjob/Library/Caches/pypoetry/virtualenvs/molecular-ml-workshops-HCPKL7WN-py3.12/lib/python3.12/site-packages (from nbconvert->jupyter->-r requirements.txt (line 2)) (5.10.4)\r\n",
      "Requirement already satisfied: pandocfilters>=1.4.1 in /Users/franciszekjob/Library/Caches/pypoetry/virtualenvs/molecular-ml-workshops-HCPKL7WN-py3.12/lib/python3.12/site-packages (from nbconvert->jupyter->-r requirements.txt (line 2)) (1.5.1)\r\n",
      "Requirement already satisfied: tinycss2 in /Users/franciszekjob/Library/Caches/pypoetry/virtualenvs/molecular-ml-workshops-HCPKL7WN-py3.12/lib/python3.12/site-packages (from nbconvert->jupyter->-r requirements.txt (line 2)) (1.4.0)\r\n",
      "Requirement already satisfied: webencodings in /Users/franciszekjob/Library/Caches/pypoetry/virtualenvs/molecular-ml-workshops-HCPKL7WN-py3.12/lib/python3.12/site-packages (from bleach!=5.0.0->nbconvert->jupyter->-r requirements.txt (line 2)) (0.5.1)\r\n",
      "Requirement already satisfied: anyio in /Users/franciszekjob/Library/Caches/pypoetry/virtualenvs/molecular-ml-workshops-HCPKL7WN-py3.12/lib/python3.12/site-packages (from httpx>=0.25.0->jupyterlab->jupyter->-r requirements.txt (line 2)) (4.6.2.post1)\r\n",
      "Requirement already satisfied: certifi in /Users/franciszekjob/Library/Caches/pypoetry/virtualenvs/molecular-ml-workshops-HCPKL7WN-py3.12/lib/python3.12/site-packages (from httpx>=0.25.0->jupyterlab->jupyter->-r requirements.txt (line 2)) (2024.8.30)\r\n",
      "Requirement already satisfied: httpcore==1.* in /Users/franciszekjob/Library/Caches/pypoetry/virtualenvs/molecular-ml-workshops-HCPKL7WN-py3.12/lib/python3.12/site-packages (from httpx>=0.25.0->jupyterlab->jupyter->-r requirements.txt (line 2)) (1.0.6)\r\n",
      "Requirement already satisfied: idna in /Users/franciszekjob/Library/Caches/pypoetry/virtualenvs/molecular-ml-workshops-HCPKL7WN-py3.12/lib/python3.12/site-packages (from httpx>=0.25.0->jupyterlab->jupyter->-r requirements.txt (line 2)) (3.10)\r\n",
      "Requirement already satisfied: sniffio in /Users/franciszekjob/Library/Caches/pypoetry/virtualenvs/molecular-ml-workshops-HCPKL7WN-py3.12/lib/python3.12/site-packages (from httpx>=0.25.0->jupyterlab->jupyter->-r requirements.txt (line 2)) (1.3.1)\r\n",
      "Requirement already satisfied: h11<0.15,>=0.13 in /Users/franciszekjob/Library/Caches/pypoetry/virtualenvs/molecular-ml-workshops-HCPKL7WN-py3.12/lib/python3.12/site-packages (from httpcore==1.*->httpx>=0.25.0->jupyterlab->jupyter->-r requirements.txt (line 2)) (0.14.0)\r\n",
      "Requirement already satisfied: decorator in /Users/franciszekjob/Library/Caches/pypoetry/virtualenvs/molecular-ml-workshops-HCPKL7WN-py3.12/lib/python3.12/site-packages (from ipython>=7.23.1->ipykernel->jupyter->-r requirements.txt (line 2)) (5.1.1)\r\n",
      "Requirement already satisfied: jedi>=0.16 in /Users/franciszekjob/Library/Caches/pypoetry/virtualenvs/molecular-ml-workshops-HCPKL7WN-py3.12/lib/python3.12/site-packages (from ipython>=7.23.1->ipykernel->jupyter->-r requirements.txt (line 2)) (0.19.1)\r\n",
      "Requirement already satisfied: stack-data in /Users/franciszekjob/Library/Caches/pypoetry/virtualenvs/molecular-ml-workshops-HCPKL7WN-py3.12/lib/python3.12/site-packages (from ipython>=7.23.1->ipykernel->jupyter->-r requirements.txt (line 2)) (0.6.3)\r\n",
      "Requirement already satisfied: pexpect>4.3 in /Users/franciszekjob/Library/Caches/pypoetry/virtualenvs/molecular-ml-workshops-HCPKL7WN-py3.12/lib/python3.12/site-packages (from ipython>=7.23.1->ipykernel->jupyter->-r requirements.txt (line 2)) (4.9.0)\r\n",
      "Requirement already satisfied: platformdirs>=2.5 in /Users/franciszekjob/Library/Caches/pypoetry/virtualenvs/molecular-ml-workshops-HCPKL7WN-py3.12/lib/python3.12/site-packages (from jupyter-core!=5.0.*,>=4.12->ipykernel->jupyter->-r requirements.txt (line 2)) (4.3.6)\r\n",
      "Requirement already satisfied: argon2-cffi>=21.1 in /Users/franciszekjob/Library/Caches/pypoetry/virtualenvs/molecular-ml-workshops-HCPKL7WN-py3.12/lib/python3.12/site-packages (from jupyter-server<3,>=2.4.0->jupyterlab->jupyter->-r requirements.txt (line 2)) (23.1.0)\r\n",
      "Requirement already satisfied: jupyter-events>=0.9.0 in /Users/franciszekjob/Library/Caches/pypoetry/virtualenvs/molecular-ml-workshops-HCPKL7WN-py3.12/lib/python3.12/site-packages (from jupyter-server<3,>=2.4.0->jupyterlab->jupyter->-r requirements.txt (line 2)) (0.10.0)\r\n",
      "Requirement already satisfied: jupyter-server-terminals>=0.4.4 in /Users/franciszekjob/Library/Caches/pypoetry/virtualenvs/molecular-ml-workshops-HCPKL7WN-py3.12/lib/python3.12/site-packages (from jupyter-server<3,>=2.4.0->jupyterlab->jupyter->-r requirements.txt (line 2)) (0.5.3)\r\n",
      "Requirement already satisfied: overrides>=5.0 in /Users/franciszekjob/Library/Caches/pypoetry/virtualenvs/molecular-ml-workshops-HCPKL7WN-py3.12/lib/python3.12/site-packages (from jupyter-server<3,>=2.4.0->jupyterlab->jupyter->-r requirements.txt (line 2)) (7.7.0)\r\n",
      "Requirement already satisfied: prometheus-client>=0.9 in /Users/franciszekjob/Library/Caches/pypoetry/virtualenvs/molecular-ml-workshops-HCPKL7WN-py3.12/lib/python3.12/site-packages (from jupyter-server<3,>=2.4.0->jupyterlab->jupyter->-r requirements.txt (line 2)) (0.21.0)\r\n",
      "Requirement already satisfied: send2trash>=1.8.2 in /Users/franciszekjob/Library/Caches/pypoetry/virtualenvs/molecular-ml-workshops-HCPKL7WN-py3.12/lib/python3.12/site-packages (from jupyter-server<3,>=2.4.0->jupyterlab->jupyter->-r requirements.txt (line 2)) (1.8.3)\r\n",
      "Requirement already satisfied: terminado>=0.8.3 in /Users/franciszekjob/Library/Caches/pypoetry/virtualenvs/molecular-ml-workshops-HCPKL7WN-py3.12/lib/python3.12/site-packages (from jupyter-server<3,>=2.4.0->jupyterlab->jupyter->-r requirements.txt (line 2)) (0.18.1)\r\n",
      "Requirement already satisfied: websocket-client>=1.7 in /Users/franciszekjob/Library/Caches/pypoetry/virtualenvs/molecular-ml-workshops-HCPKL7WN-py3.12/lib/python3.12/site-packages (from jupyter-server<3,>=2.4.0->jupyterlab->jupyter->-r requirements.txt (line 2)) (1.8.0)\r\n",
      "Requirement already satisfied: babel>=2.10 in /Users/franciszekjob/Library/Caches/pypoetry/virtualenvs/molecular-ml-workshops-HCPKL7WN-py3.12/lib/python3.12/site-packages (from jupyterlab-server<3,>=2.27.1->jupyterlab->jupyter->-r requirements.txt (line 2)) (2.16.0)\r\n",
      "Requirement already satisfied: json5>=0.9.0 in /Users/franciszekjob/Library/Caches/pypoetry/virtualenvs/molecular-ml-workshops-HCPKL7WN-py3.12/lib/python3.12/site-packages (from jupyterlab-server<3,>=2.27.1->jupyterlab->jupyter->-r requirements.txt (line 2)) (0.9.25)\r\n",
      "Requirement already satisfied: jsonschema>=4.18.0 in /Users/franciszekjob/Library/Caches/pypoetry/virtualenvs/molecular-ml-workshops-HCPKL7WN-py3.12/lib/python3.12/site-packages (from jupyterlab-server<3,>=2.27.1->jupyterlab->jupyter->-r requirements.txt (line 2)) (4.23.0)\r\n",
      "Requirement already satisfied: fastjsonschema>=2.15 in /Users/franciszekjob/Library/Caches/pypoetry/virtualenvs/molecular-ml-workshops-HCPKL7WN-py3.12/lib/python3.12/site-packages (from nbformat>=5.7->nbconvert->jupyter->-r requirements.txt (line 2)) (2.20.0)\r\n",
      "Requirement already satisfied: wcwidth in /Users/franciszekjob/Library/Caches/pypoetry/virtualenvs/molecular-ml-workshops-HCPKL7WN-py3.12/lib/python3.12/site-packages (from prompt-toolkit>=3.0.30->jupyter-console->jupyter->-r requirements.txt (line 2)) (0.2.13)\r\n",
      "Requirement already satisfied: charset-normalizer<4,>=2 in /Users/franciszekjob/Library/Caches/pypoetry/virtualenvs/molecular-ml-workshops-HCPKL7WN-py3.12/lib/python3.12/site-packages (from requests->huggingface_hub->scikit-fingerprints->-r requirements.txt (line 6)) (3.4.0)\r\n",
      "Requirement already satisfied: urllib3<3,>=1.21.1 in /Users/franciszekjob/Library/Caches/pypoetry/virtualenvs/molecular-ml-workshops-HCPKL7WN-py3.12/lib/python3.12/site-packages (from requests->huggingface_hub->scikit-fingerprints->-r requirements.txt (line 6)) (2.2.3)\r\n",
      "Requirement already satisfied: wrapt in /Users/franciszekjob/Library/Caches/pypoetry/virtualenvs/molecular-ml-workshops-HCPKL7WN-py3.12/lib/python3.12/site-packages (from smart-open>=1.8.3->e3fp->scikit-fingerprints->-r requirements.txt (line 6)) (1.16.0)\r\n",
      "Requirement already satisfied: soupsieve>1.2 in /Users/franciszekjob/Library/Caches/pypoetry/virtualenvs/molecular-ml-workshops-HCPKL7WN-py3.12/lib/python3.12/site-packages (from beautifulsoup4->nbconvert->jupyter->-r requirements.txt (line 2)) (2.6)\r\n",
      "Requirement already satisfied: xarray in /Users/franciszekjob/Library/Caches/pypoetry/virtualenvs/molecular-ml-workshops-HCPKL7WN-py3.12/lib/python3.12/site-packages (from pandas-flavor->descriptastorus->scikit-fingerprints->-r requirements.txt (line 6)) (2024.10.0)\r\n",
      "Requirement already satisfied: argon2-cffi-bindings in /Users/franciszekjob/Library/Caches/pypoetry/virtualenvs/molecular-ml-workshops-HCPKL7WN-py3.12/lib/python3.12/site-packages (from argon2-cffi>=21.1->jupyter-server<3,>=2.4.0->jupyterlab->jupyter->-r requirements.txt (line 2)) (21.2.0)\r\n",
      "Requirement already satisfied: parso<0.9.0,>=0.8.3 in /Users/franciszekjob/Library/Caches/pypoetry/virtualenvs/molecular-ml-workshops-HCPKL7WN-py3.12/lib/python3.12/site-packages (from jedi>=0.16->ipython>=7.23.1->ipykernel->jupyter->-r requirements.txt (line 2)) (0.8.4)\r\n",
      "Requirement already satisfied: attrs>=22.2.0 in /Users/franciszekjob/Library/Caches/pypoetry/virtualenvs/molecular-ml-workshops-HCPKL7WN-py3.12/lib/python3.12/site-packages (from jsonschema>=4.18.0->jupyterlab-server<3,>=2.27.1->jupyterlab->jupyter->-r requirements.txt (line 2)) (24.2.0)\r\n",
      "Requirement already satisfied: jsonschema-specifications>=2023.03.6 in /Users/franciszekjob/Library/Caches/pypoetry/virtualenvs/molecular-ml-workshops-HCPKL7WN-py3.12/lib/python3.12/site-packages (from jsonschema>=4.18.0->jupyterlab-server<3,>=2.27.1->jupyterlab->jupyter->-r requirements.txt (line 2)) (2024.10.1)\r\n",
      "Requirement already satisfied: referencing>=0.28.4 in /Users/franciszekjob/Library/Caches/pypoetry/virtualenvs/molecular-ml-workshops-HCPKL7WN-py3.12/lib/python3.12/site-packages (from jsonschema>=4.18.0->jupyterlab-server<3,>=2.27.1->jupyterlab->jupyter->-r requirements.txt (line 2)) (0.35.1)\r\n",
      "Requirement already satisfied: rpds-py>=0.7.1 in /Users/franciszekjob/Library/Caches/pypoetry/virtualenvs/molecular-ml-workshops-HCPKL7WN-py3.12/lib/python3.12/site-packages (from jsonschema>=4.18.0->jupyterlab-server<3,>=2.27.1->jupyterlab->jupyter->-r requirements.txt (line 2)) (0.21.0)\r\n",
      "Requirement already satisfied: python-json-logger>=2.0.4 in /Users/franciszekjob/Library/Caches/pypoetry/virtualenvs/molecular-ml-workshops-HCPKL7WN-py3.12/lib/python3.12/site-packages (from jupyter-events>=0.9.0->jupyter-server<3,>=2.4.0->jupyterlab->jupyter->-r requirements.txt (line 2)) (2.0.7)\r\n",
      "Requirement already satisfied: rfc3339-validator in /Users/franciszekjob/Library/Caches/pypoetry/virtualenvs/molecular-ml-workshops-HCPKL7WN-py3.12/lib/python3.12/site-packages (from jupyter-events>=0.9.0->jupyter-server<3,>=2.4.0->jupyterlab->jupyter->-r requirements.txt (line 2)) (0.1.4)\r\n",
      "Requirement already satisfied: rfc3986-validator>=0.1.1 in /Users/franciszekjob/Library/Caches/pypoetry/virtualenvs/molecular-ml-workshops-HCPKL7WN-py3.12/lib/python3.12/site-packages (from jupyter-events>=0.9.0->jupyter-server<3,>=2.4.0->jupyterlab->jupyter->-r requirements.txt (line 2)) (0.1.1)\r\n",
      "Requirement already satisfied: ptyprocess>=0.5 in /Users/franciszekjob/Library/Caches/pypoetry/virtualenvs/molecular-ml-workshops-HCPKL7WN-py3.12/lib/python3.12/site-packages (from pexpect>4.3->ipython>=7.23.1->ipykernel->jupyter->-r requirements.txt (line 2)) (0.7.0)\r\n",
      "Requirement already satisfied: executing>=1.2.0 in /Users/franciszekjob/Library/Caches/pypoetry/virtualenvs/molecular-ml-workshops-HCPKL7WN-py3.12/lib/python3.12/site-packages (from stack-data->ipython>=7.23.1->ipykernel->jupyter->-r requirements.txt (line 2)) (2.1.0)\r\n",
      "Requirement already satisfied: asttokens>=2.1.0 in /Users/franciszekjob/Library/Caches/pypoetry/virtualenvs/molecular-ml-workshops-HCPKL7WN-py3.12/lib/python3.12/site-packages (from stack-data->ipython>=7.23.1->ipykernel->jupyter->-r requirements.txt (line 2)) (2.4.1)\r\n",
      "Requirement already satisfied: pure-eval in /Users/franciszekjob/Library/Caches/pypoetry/virtualenvs/molecular-ml-workshops-HCPKL7WN-py3.12/lib/python3.12/site-packages (from stack-data->ipython>=7.23.1->ipykernel->jupyter->-r requirements.txt (line 2)) (0.2.3)\r\n",
      "Requirement already satisfied: fqdn in /Users/franciszekjob/Library/Caches/pypoetry/virtualenvs/molecular-ml-workshops-HCPKL7WN-py3.12/lib/python3.12/site-packages (from jsonschema[format-nongpl]>=4.18.0->jupyter-events>=0.9.0->jupyter-server<3,>=2.4.0->jupyterlab->jupyter->-r requirements.txt (line 2)) (1.5.1)\r\n",
      "Requirement already satisfied: isoduration in /Users/franciszekjob/Library/Caches/pypoetry/virtualenvs/molecular-ml-workshops-HCPKL7WN-py3.12/lib/python3.12/site-packages (from jsonschema[format-nongpl]>=4.18.0->jupyter-events>=0.9.0->jupyter-server<3,>=2.4.0->jupyterlab->jupyter->-r requirements.txt (line 2)) (20.11.0)\r\n",
      "Requirement already satisfied: jsonpointer>1.13 in /Users/franciszekjob/Library/Caches/pypoetry/virtualenvs/molecular-ml-workshops-HCPKL7WN-py3.12/lib/python3.12/site-packages (from jsonschema[format-nongpl]>=4.18.0->jupyter-events>=0.9.0->jupyter-server<3,>=2.4.0->jupyterlab->jupyter->-r requirements.txt (line 2)) (3.0.0)\r\n",
      "Requirement already satisfied: uri-template in /Users/franciszekjob/Library/Caches/pypoetry/virtualenvs/molecular-ml-workshops-HCPKL7WN-py3.12/lib/python3.12/site-packages (from jsonschema[format-nongpl]>=4.18.0->jupyter-events>=0.9.0->jupyter-server<3,>=2.4.0->jupyterlab->jupyter->-r requirements.txt (line 2)) (1.3.0)\r\n",
      "Requirement already satisfied: webcolors>=24.6.0 in /Users/franciszekjob/Library/Caches/pypoetry/virtualenvs/molecular-ml-workshops-HCPKL7WN-py3.12/lib/python3.12/site-packages (from jsonschema[format-nongpl]>=4.18.0->jupyter-events>=0.9.0->jupyter-server<3,>=2.4.0->jupyterlab->jupyter->-r requirements.txt (line 2)) (24.8.0)\r\n",
      "Requirement already satisfied: cffi>=1.0.1 in /Users/franciszekjob/Library/Caches/pypoetry/virtualenvs/molecular-ml-workshops-HCPKL7WN-py3.12/lib/python3.12/site-packages (from argon2-cffi-bindings->argon2-cffi>=21.1->jupyter-server<3,>=2.4.0->jupyterlab->jupyter->-r requirements.txt (line 2)) (1.17.1)\r\n",
      "Requirement already satisfied: pycparser in /Users/franciszekjob/Library/Caches/pypoetry/virtualenvs/molecular-ml-workshops-HCPKL7WN-py3.12/lib/python3.12/site-packages (from cffi>=1.0.1->argon2-cffi-bindings->argon2-cffi>=21.1->jupyter-server<3,>=2.4.0->jupyterlab->jupyter->-r requirements.txt (line 2)) (2.22)\r\n",
      "Requirement already satisfied: arrow>=0.15.0 in /Users/franciszekjob/Library/Caches/pypoetry/virtualenvs/molecular-ml-workshops-HCPKL7WN-py3.12/lib/python3.12/site-packages (from isoduration->jsonschema[format-nongpl]>=4.18.0->jupyter-events>=0.9.0->jupyter-server<3,>=2.4.0->jupyterlab->jupyter->-r requirements.txt (line 2)) (1.3.0)\r\n",
      "Requirement already satisfied: types-python-dateutil>=2.8.10 in /Users/franciszekjob/Library/Caches/pypoetry/virtualenvs/molecular-ml-workshops-HCPKL7WN-py3.12/lib/python3.12/site-packages (from arrow>=0.15.0->isoduration->jsonschema[format-nongpl]>=4.18.0->jupyter-events>=0.9.0->jupyter-server<3,>=2.4.0->jupyterlab->jupyter->-r requirements.txt (line 2)) (2.9.0.20241003)\r\n",
      "\r\n",
      "\u001B[1m[\u001B[0m\u001B[34;49mnotice\u001B[0m\u001B[1;39;49m]\u001B[0m\u001B[39;49m A new release of pip is available: \u001B[0m\u001B[31;49m24.3.1\u001B[0m\u001B[39;49m -> \u001B[0m\u001B[32;49m25.0.1\u001B[0m\r\n",
      "\u001B[1m[\u001B[0m\u001B[34;49mnotice\u001B[0m\u001B[1;39;49m]\u001B[0m\u001B[39;49m To update, run: \u001B[0m\u001B[32;49mpip install --upgrade pip\u001B[0m\r\n"
     ]
    }
   ],
   "source": [
    "!pip install -r requirements.txt"
   ]
  },
  {
   "cell_type": "markdown",
   "id": "cbc7644c-69cd-4c48-9191-7b082211e8a0",
   "metadata": {
    "jp-MarkdownHeadingCollapsed": true
   },
   "source": [
    "## 1. Loading and visualizing molecules"
   ]
  },
  {
   "cell_type": "markdown",
   "id": "0a4b6f14-7a6c-4cff-97ef-4e14e3880219",
   "metadata": {},
   "source": [
    "SMILES strings are typically used for exchanging molecules. Let's load an example molecule - [ibuprofen](https://en.wikipedia.org/wiki/Ibuprofen) - with RDKit.\n",
    "\n",
    "Things to note about RDKit:\n",
    "- main module is `rdkit.Chem`, with most common functions directly available\n",
    "- it uses CamelCase, following C++ conventions\n",
    "- `MolFromSmiles` automatically performs basic sanitization and cleanup checks ([details](https://www.rdkit.org/docs/RDKit_Book.html#molecular-sanitization))\n",
    "- Jupyter automatically renders molecules from the last line"
   ]
  },
  {
   "cell_type": "code",
   "execution_count": 62,
   "id": "dae96658-cea9-4438-8cc4-cd7c6bfb8a42",
   "metadata": {
    "ExecuteTime": {
     "end_time": "2025-02-23T12:55:57.299951Z",
     "start_time": "2025-02-23T12:55:57.296905Z"
    }
   },
   "outputs": [
    {
     "data": {
      "text/plain": "<rdkit.Chem.rdchem.Mol at 0x3155e6f80>",
      "image/png": "[encoded data removed]"
     },
     "execution_count": 62,
     "metadata": {},
     "output_type": "execute_result"
    }
   ],
   "source": [
    "from rdkit.Chem import MolFromSmiles\n",
    "\n",
    "smiles = \"CC(C)Cc1ccc(cc1)[C@@H](C)C(=O)O\"\n",
    "ibuprofen_mol = MolFromSmiles(smiles)\n",
    "ibuprofen_mol"
   ]
  },
  {
   "cell_type": "markdown",
   "id": "83f46161-d333-44fe-97e8-fb5cd11f3fd5",
   "metadata": {},
   "source": [
    "Note that SMILES is not unique. Each software deterministically outputs its own **canonical SMILES**, but they differ between programs."
   ]
  },
  {
   "cell_type": "code",
   "execution_count": 63,
   "id": "9d94479d-74ed-4f28-9e9e-cd17d3e468f2",
   "metadata": {
    "ExecuteTime": {
     "end_time": "2025-02-23T12:55:57.303253Z",
     "start_time": "2025-02-23T12:55:57.300006Z"
    }
   },
   "outputs": [
    {
     "data": {
      "text/plain": "'CC(C)Cc1ccc([C@@H](C)C(=O)O)cc1'"
     },
     "execution_count": 63,
     "metadata": {},
     "output_type": "execute_result"
    }
   ],
   "source": [
    "from rdkit.Chem import MolToSmiles\n",
    "\n",
    "MolToSmiles(ibuprofen_mol)"
   ]
  },
  {
   "cell_type": "markdown",
   "id": "bd14f7d9-be32-4a46-8b65-20e29ecf2cd2",
   "metadata": {},
   "source": [
    "If you need more control over drawing, or are using regular Python scripts, `rdkit.Chem.Draw` contains necessary functions. It operates on `pillow` images, which are sometimes much less convenient than `matplotlib` plots."
   ]
  },
  {
   "cell_type": "code",
   "execution_count": 64,
   "id": "3deade90-ce2f-421a-88f3-83169bd824f7",
   "metadata": {
    "ExecuteTime": {
     "end_time": "2025-02-23T12:55:57.369894Z",
     "start_time": "2025-02-23T12:55:57.318226Z"
    }
   },
   "outputs": [
    {
     "name": "stdout",
     "output_type": "stream",
     "text": [
      "<class 'PIL.PngImagePlugin.PngImageFile'>\n"
     ]
    },
    {
     "data": {
      "text/plain": "<rdkit.Chem.rdchem.Mol at 0x3155e6f80>",
      "image/png": "[encoded data removed]"
     },
     "execution_count": 64,
     "metadata": {},
     "output_type": "execute_result"
    }
   ],
   "source": [
    "from rdkit.Chem.Draw import MolToImage\n",
    "\n",
    "img = MolToImage(ibuprofen_mol)\n",
    "print(type(img))\n",
    "ibuprofen_mol"
   ]
  },
  {
   "cell_type": "markdown",
   "id": "77ebe4c2-089c-43ff-93ae-592f82d84f97",
   "metadata": {},
   "source": [
    "### Exercise 1"
   ]
  },
  {
   "cell_type": "markdown",
   "id": "0dea69f3-dde2-4141-b716-1e49b31b54d4",
   "metadata": {},
   "source": [
    "Read [caffeine molecule](https://en.wikipedia.org/wiki/Caffeine) from Wikipedia and plot it."
   ]
  },
  {
   "cell_type": "code",
   "execution_count": 65,
   "id": "873472c3-3546-4638-9c0c-e0a9ecde2df0",
   "metadata": {
    "ExecuteTime": {
     "end_time": "2025-02-23T12:55:57.370834Z",
     "start_time": "2025-02-23T12:55:57.322329Z"
    }
   },
   "outputs": [
    {
     "data": {
      "text/plain": "<rdkit.Chem.rdchem.Mol at 0x315600eb0>",
      "image/png": "[encoded data removed]"
     },
     "execution_count": 65,
     "metadata": {},
     "output_type": "execute_result"
    }
   ],
   "source": [
    "caffeine_smiles = \"CN1C=NC2=C1C(=O)N(C(=O)N2C)C\"\n",
    "caffeine_mol = MolFromSmiles(caffeine_smiles)\n",
    "\n",
    "caffeine_mol"
   ]
  },
  {
   "cell_type": "markdown",
   "id": "12b5934d-4029-4819-a758-48dfb210e090",
   "metadata": {},
   "source": [
    "Note that RDKit by default uses **implicit hydrogens** where possible. To use them explicitly, e.g. for drawing, we use `AddHs` function. It returns new molecule with all hydrogens explicitly present."
   ]
  },
  {
   "cell_type": "code",
   "execution_count": 66,
   "id": "a8f74e60-9c58-4df6-a251-56beca716757",
   "metadata": {
    "ExecuteTime": {
     "end_time": "2025-02-23T12:55:57.372Z",
     "start_time": "2025-02-23T12:55:57.330287Z"
    }
   },
   "outputs": [
    {
     "data": {
      "text/plain": "<rdkit.Chem.rdchem.Mol at 0x315600f90>",
      "image/png": "[encoded data removed]"
     },
     "execution_count": 66,
     "metadata": {},
     "output_type": "execute_result"
    }
   ],
   "source": [
    "from rdkit.Chem import AddHs\n",
    "\n",
    "AddHs(ibuprofen_mol)"
   ]
  },
  {
   "cell_type": "code",
   "execution_count": 67,
   "id": "c38bd985-0ebe-4c2c-bdf7-f9a05b0006bf",
   "metadata": {
    "ExecuteTime": {
     "end_time": "2025-02-23T12:55:57.372785Z",
     "start_time": "2025-02-23T12:55:57.336420Z"
    }
   },
   "outputs": [
    {
     "data": {
      "text/plain": "<rdkit.Chem.rdchem.Mol at 0x315601700>",
      "image/png": "[encoded data removed]"
     },
     "execution_count": 67,
     "metadata": {},
     "output_type": "execute_result"
    }
   ],
   "source": [
    "AddHs(caffeine_mol)"
   ]
  },
  {
   "cell_type": "markdown",
   "id": "e15b2b8b-0a70-4458-900e-0029684720b7",
   "metadata": {},
   "source": [
    "## 2. Atoms, bonds, rings"
   ]
  },
  {
   "cell_type": "markdown",
   "id": "c99ece33-3c3a-4988-9582-922a34ea6995",
   "metadata": {},
   "source": [
    "Molecules (`Mol` class) are built of atoms (`Atom` class) and bonds (`Bond` class). They are numbered, but everything on graphs is **permutation invariant**, i.e. this order is artificial, and purely for convenience.\n",
    "\n",
    "Rings are simply sequences of atoms and bonds. Information about them is in `RingInfo` object for each molecule.\n",
    "\n",
    "All are available in `rdkit.Chem.rdchem` ([docs](https://www.rdkit.org/docs/source/rdkit.Chem.rdchem.html)), but also in `rdkit.Chem`.\n",
    "\n",
    "RDKit is very explicit about getting many objects. No typical Python convenience for iteration or nice printing by default!"
   ]
  },
  {
   "cell_type": "code",
   "execution_count": 68,
   "id": "e0ed051e-12df-4ab6-85fc-22fcb49c80d9",
   "metadata": {
    "scrolled": true,
    "ExecuteTime": {
     "end_time": "2025-02-23T12:55:57.373615Z",
     "start_time": "2025-02-23T12:55:57.338905Z"
    }
   },
   "outputs": [
    {
     "name": "stdout",
     "output_type": "stream",
     "text": [
      "<rdkit.Chem.rdchem.Atom object at 0x3156013f0>\n",
      "<rdkit.Chem.rdchem.Atom object at 0x315601620>\n",
      "<rdkit.Chem.rdchem.Atom object at 0x16c0a6260>\n",
      "<rdkit.Chem.rdchem.Atom object at 0x315601620>\n",
      "<rdkit.Chem.rdchem.Atom object at 0x16c0a6260>\n",
      "<rdkit.Chem.rdchem.Atom object at 0x315601620>\n",
      "<rdkit.Chem.rdchem.Atom object at 0x16c0a6260>\n",
      "<rdkit.Chem.rdchem.Atom object at 0x315601620>\n",
      "<rdkit.Chem.rdchem.Atom object at 0x16c0a6260>\n",
      "<rdkit.Chem.rdchem.Atom object at 0x315601620>\n",
      "<rdkit.Chem.rdchem.Atom object at 0x16c0a6260>\n",
      "<rdkit.Chem.rdchem.Atom object at 0x315601620>\n",
      "<rdkit.Chem.rdchem.Atom object at 0x16c0a6260>\n",
      "<rdkit.Chem.rdchem.Atom object at 0x315601620>\n",
      "<rdkit.Chem.rdchem.Atom object at 0x16c0a6260>\n"
     ]
    }
   ],
   "source": [
    "for atom in ibuprofen_mol.GetAtoms():\n",
    "    print(atom)"
   ]
  },
  {
   "cell_type": "code",
   "execution_count": 69,
   "id": "7c97548a-85f5-49fc-950f-89cd3bca6ff4",
   "metadata": {
    "ExecuteTime": {
     "end_time": "2025-02-23T12:55:57.384154Z",
     "start_time": "2025-02-23T12:55:57.341779Z"
    }
   },
   "outputs": [
    {
     "name": "stdout",
     "output_type": "stream",
     "text": [
      " 0 6 C\n",
      " 1 6 C\n",
      " 2 6 C\n",
      " 3 6 C\n",
      " 4 6 C\n",
      " 5 6 C\n",
      " 6 6 C\n",
      " 7 6 C\n",
      " 8 6 C\n",
      " 9 6 C\n",
      "10 6 C\n",
      "11 6 C\n",
      "12 6 C\n",
      "13 8 O\n",
      "14 8 O\n"
     ]
    }
   ],
   "source": [
    "for atom in ibuprofen_mol.GetAtoms():\n",
    "    print(f\"{atom.GetIdx():2}\", atom.GetAtomicNum(), atom.GetSymbol())"
   ]
  },
  {
   "cell_type": "code",
   "execution_count": 70,
   "id": "ce236623-896d-4b92-9b20-e62e8e0c349a",
   "metadata": {
    "ExecuteTime": {
     "end_time": "2025-02-23T12:55:57.385015Z",
     "start_time": "2025-02-23T12:55:57.344524Z"
    }
   },
   "outputs": [
    {
     "name": "stdout",
     "output_type": "stream",
     "text": [
      " 0 C C SINGLE\n",
      " 1 C C SINGLE\n",
      " 2 C C SINGLE\n",
      " 3 C C SINGLE\n",
      " 4 C C AROMATIC\n",
      " 5 C C AROMATIC\n",
      " 6 C C AROMATIC\n",
      " 7 C C AROMATIC\n",
      " 8 C C AROMATIC\n",
      " 9 C C SINGLE\n",
      "10 C C SINGLE\n",
      "11 C C SINGLE\n",
      "12 C O DOUBLE\n",
      "13 C O SINGLE\n",
      "14 C C AROMATIC\n"
     ]
    }
   ],
   "source": [
    "for bond in ibuprofen_mol.GetBonds():\n",
    "    begin_atom = bond.GetBeginAtom()\n",
    "    end_atom = bond.GetEndAtom()\n",
    "    print(\n",
    "        f\"{bond.GetIdx():2}\",\n",
    "        begin_atom.GetSymbol(),\n",
    "        end_atom.GetSymbol(),\n",
    "        f\"{bond.GetBondType()}\",\n",
    "    )"
   ]
  },
  {
   "cell_type": "markdown",
   "id": "0b6920ab-91bf-4bb0-8698-27b05fd90908",
   "metadata": {},
   "source": [
    "There is no easy way to know which atom exactly has a given index. To plot this, we have to explicitly use `SetAtomMapNum` and assign the atom its own index as a number."
   ]
  },
  {
   "cell_type": "code",
   "execution_count": 71,
   "id": "78b4e2fd-85db-4895-9c0d-2e530c9d78ea",
   "metadata": {
    "ExecuteTime": {
     "end_time": "2025-02-23T12:55:57.493762Z",
     "start_time": "2025-02-23T12:55:57.351543Z"
    }
   },
   "outputs": [
    {
     "data": {
      "text/plain": "<rdkit.Chem.rdchem.Mol at 0x3155e6f80>",
      "image/png": "[encoded data removed]"
     },
     "execution_count": 71,
     "metadata": {},
     "output_type": "execute_result"
    }
   ],
   "source": [
    "for atom in ibuprofen_mol.GetAtoms():\n",
    "    atom.SetAtomMapNum(atom.GetIdx())\n",
    "\n",
    "ibuprofen_mol"
   ]
  },
  {
   "cell_type": "markdown",
   "id": "fb0c0cd9-0ef4-47e6-9986-9e6e6349b7fd",
   "metadata": {},
   "source": [
    "### Exercise 2"
   ]
  },
  {
   "cell_type": "markdown",
   "id": "9de779c1-cf82-4351-8323-ab5fb23cc7ac",
   "metadata": {},
   "source": [
    "Counts of elements and bond types are arguably the simplest features available in chemistry. We used it e.g. in [MOLTOP model](https://arxiv.org/abs/2407.12136).\n",
    "\n",
    "Implement `get_simple_element_counts` function, which returns tuple with 3 integers: counts of carbons, oxygens, and nitrogens."
   ]
  },
  {
   "cell_type": "code",
   "execution_count": 72,
   "id": "5d26cc36-22e7-45ea-a5fe-f12f0c1d098a",
   "metadata": {
    "ExecuteTime": {
     "end_time": "2025-02-23T12:55:57.494793Z",
     "start_time": "2025-02-23T12:55:57.355093Z"
    }
   },
   "outputs": [],
   "source": [
    "from rdkit.Chem import Mol\n",
    "\n",
    "\n",
    "def get_simple_element_counts(mol: Mol) -> tuple[int, int, int]:\n",
    "    result = {\"C\": 0, \"O\": 0, \"N\": 0}\n",
    "\n",
    "    for atom in mol.GetAtoms():\n",
    "        result[atom.GetSymbol()] += 1\n",
    "\n",
    "    return result[\"C\"], result[\"O\"], result[\"N\"]\n"
   ]
  },
  {
   "cell_type": "code",
   "execution_count": 73,
   "id": "2ffa4cc9-01af-4042-8f0a-b2310a8e0ba0",
   "metadata": {
    "ExecuteTime": {
     "end_time": "2025-02-23T12:55:57.495923Z",
     "start_time": "2025-02-23T12:55:57.357953Z"
    }
   },
   "outputs": [
    {
     "name": "stdout",
     "output_type": "stream",
     "text": [
      "Ibuprofen | carbons: 13, oxygens: 2, nitrogens: 0\n",
      "Caffeine  | carbons: 8, oxygens: 2, nitrogens: 4\n"
     ]
    }
   ],
   "source": [
    "assert get_simple_element_counts(ibuprofen_mol) == (13, 2, 0)\n",
    "assert get_simple_element_counts(caffeine_mol) == (8, 2, 4)\n",
    "\n",
    "carbons, oxygens, nitrogens = get_simple_element_counts(ibuprofen_mol)\n",
    "print(f\"Ibuprofen | carbons: {carbons}, oxygens: {oxygens}, nitrogens: {nitrogens}\")\n",
    "\n",
    "carbons, oxygens, nitrogens = get_simple_element_counts(caffeine_mol)\n",
    "print(f\"Caffeine  | carbons: {carbons}, oxygens: {oxygens}, nitrogens: {nitrogens}\")"
   ]
  },
  {
   "cell_type": "markdown",
   "id": "c918c5a8-1adc-42d5-885b-05f81224b11f",
   "metadata": {},
   "source": [
    "## 3. Rings"
   ]
  },
  {
   "cell_type": "markdown",
   "id": "fddc8d53-0751-4823-aa5f-71a6df72c2a6",
   "metadata": {},
   "source": [
    "Rings information can be obtained with `.GetRingInfo()`. Note that its `.AtomRings()` method returns atom indexes."
   ]
  },
  {
   "cell_type": "code",
   "execution_count": 74,
   "id": "b80beaa7-5cbc-45d6-980a-218dcd846725",
   "metadata": {
    "ExecuteTime": {
     "end_time": "2025-02-23T12:55:57.496671Z",
     "start_time": "2025-02-23T12:55:57.361140Z"
    }
   },
   "outputs": [
    {
     "name": "stdout",
     "output_type": "stream",
     "text": [
      "Number of rings: 1\n",
      "Rings: ((4, 9, 8, 7, 6, 5),)\n"
     ]
    }
   ],
   "source": [
    "ri = ibuprofen_mol.GetRingInfo()\n",
    "\n",
    "print(f\"Number of rings: {ri.NumRings()}\")\n",
    "print(f\"Rings: {ri.AtomRings()}\")"
   ]
  },
  {
   "cell_type": "markdown",
   "id": "4de21996-4156-44ca-82c0-a9193eef2ff1",
   "metadata": {},
   "source": [
    "### Exercise 3"
   ]
  },
  {
   "cell_type": "markdown",
   "id": "5f9a6da8-ded5-46ea-9159-d8a8335e6cd0",
   "metadata": {},
   "source": [
    "Implement function `get_num_aromatic_rings`, which counts the **aromatic rings** in a molecule. Ring is aromatic if it consists only of aromatic atoms (or bonds, it's equivalent). Both atoms and bonds have `.GetIsAromatic()` method, which checks aromaticity. Molecules have `.GetAtomWithIdx()` method to get atom by index.\n",
    "\n",
    "Test it on ibuprofen and caffeine molecules."
   ]
  },
  {
   "cell_type": "code",
   "execution_count": 75,
   "id": "42433f20-27d8-4e96-a2e1-a0a295a34f53",
   "metadata": {
    "ExecuteTime": {
     "end_time": "2025-02-23T12:55:57.497386Z",
     "start_time": "2025-02-23T12:55:57.363834Z"
    }
   },
   "outputs": [],
   "source": [
    "from typing import Iterable\n",
    "\n",
    "\n",
    "def get_num_aromatic_rings(mol: Mol) -> int:\n",
    "    ri = mol.GetRingInfo()\n",
    "    n_aromatic_rings = 0\n",
    "\n",
    "    for ring in ri.AtomRings():\n",
    "        if all(mol.GetAtomWithIdx(atom).GetIsAromatic() for atom in ring):\n",
    "            n_aromatic_rings += 1\n",
    "\n",
    "    return n_aromatic_rings\n"
   ]
  },
  {
   "cell_type": "code",
   "execution_count": 76,
   "id": "97107a3e-c50c-4a6b-8374-688c5646d180",
   "metadata": {
    "ExecuteTime": {
     "end_time": "2025-02-23T12:55:57.513307Z",
     "start_time": "2025-02-23T12:55:57.369894Z"
    }
   },
   "outputs": [
    {
     "name": "stdout",
     "output_type": "stream",
     "text": [
      "Ibuprofen aromatic rings: 1\n",
      "Caffeine aromatic rings: 2\n",
      "Solution is correct!\n"
     ]
    }
   ],
   "source": [
    "assert get_num_aromatic_rings(ibuprofen_mol) == 1\n",
    "assert get_num_aromatic_rings(caffeine_mol) == 2\n",
    "\n",
    "print(f\"Ibuprofen aromatic rings: {get_num_aromatic_rings(ibuprofen_mol)}\")\n",
    "print(f\"Caffeine aromatic rings: {get_num_aromatic_rings(caffeine_mol)}\")\n",
    "\n",
    "print(\"Solution is correct!\")"
   ]
  },
  {
   "cell_type": "markdown",
   "id": "0cc84865-2090-4a3a-ae73-f9d54778ef3d",
   "metadata": {},
   "source": [
    "## 4. Molecular descriptors"
   ]
  },
  {
   "cell_type": "markdown",
   "id": "fea4cac4-1898-4391-a1de-b81ec1b36d0a",
   "metadata": {},
   "source": [
    "To use computational methods on molecules, we need to compute some numerical properties. In particular, **descriptors** are particular properties of molecule, for example:\n",
    "- element counts\n",
    "- bond type counts\n",
    "- atomic masses\n",
    "- electric charges\n",
    "- various topological indexes\n",
    "\n",
    "They are very interpretable features, and often quite fast to compute. Using many well-selected descriptors can result in powerful models for predicting more complex properties.\n",
    "\n",
    "In RDKit, they are in a few different places, e.g. in `rdkit.Chem.Descriptors`."
   ]
  },
  {
   "cell_type": "markdown",
   "id": "493a7085-ddbf-4134-a7b1-95f778e6d2c1",
   "metadata": {},
   "source": [
    "**Molecular mass** (or weight) is the sum of masses of all atoms in a molecule, typically counted in [daltons (Da)](https://en.wikipedia.org/wiki/Dalton_(unit)). Too large molecules are more rarely used, since it's hard for them to go through membranes."
   ]
  },
  {
   "cell_type": "code",
   "execution_count": 77,
   "id": "f19f78e2-6c78-449f-a4b6-34a6376d9b73",
   "metadata": {
    "ExecuteTime": {
     "end_time": "2025-02-23T12:55:57.525824Z",
     "start_time": "2025-02-23T12:55:57.372301Z"
    }
   },
   "outputs": [
    {
     "data": {
      "text/plain": "206.28499999999997"
     },
     "execution_count": 77,
     "metadata": {},
     "output_type": "execute_result"
    }
   ],
   "source": [
    "from rdkit.Chem.Descriptors import MolWt\n",
    "\n",
    "MolWt(ibuprofen_mol)"
   ]
  },
  {
   "cell_type": "markdown",
   "id": "98d6f878-dd6b-4ea6-a5c4-fdbcabf27824",
   "metadata": {},
   "source": [
    "**Partition coefficient P** measures **lipophilicity** of molecule, i.e. how well it dissolves into fats (lipids). If molecule is lipophilic, it is also hydrophobic, i.e. does not dissolve well in water. This is also very important, since it strongly affects how easily the drug can reach its intended target in the body, and how well it will work when it reaches its target. Fortunately, it can be shown that we can quite well approximated by simple atomic contributions. Each element has its own contribution (positive or negative), and we sum them for a molecule. For details, see:\n",
    "> Wildman, S.A. and Crippen, G.M. (1999) \"Prediction of Physicochemical Parameters by Atomic Contribution\" Journal of Chemical Information and Computer Sciences, 39, 868-873. ([link](http://dx.doi.org/10.1021/ci990307l))\n",
    "\n",
    "Other references:\n",
    "- [LogP - Making Sense of the Value](https://www.acdlabs.com/wp-content/uploads/download/app/physchem/making_sense.pdf)\n",
    "- [Understanding Lipinski’s Rule of 5 and the Role of LogP Value in Drug Design and Development](https://www.sailife.com/understanding-lipinskis-rule-of-5-and-the-role-of-logp-value-in-drug-design-and-development/)"
   ]
  },
  {
   "cell_type": "code",
   "execution_count": 78,
   "id": "64acc2cc-360c-4975-994e-7bc18fb78abe",
   "metadata": {
    "ExecuteTime": {
     "end_time": "2025-02-23T12:55:57.526745Z",
     "start_time": "2025-02-23T12:55:57.375591Z"
    }
   },
   "outputs": [
    {
     "data": {
      "text/plain": "3.073200000000001"
     },
     "execution_count": 78,
     "metadata": {},
     "output_type": "execute_result"
    }
   ],
   "source": [
    "from rdkit.Chem.Crippen import MolLogP\n",
    "\n",
    "MolLogP(ibuprofen_mol)"
   ]
  },
  {
   "cell_type": "markdown",
   "id": "1362db7d-8a22-4783-bb40-50682463dc99",
   "metadata": {},
   "source": [
    "**Topological indices** describe the topology, or shape of the molecule, by simple numerical statistics. There are a lot, since they are closely tied to mathematics and graph theory, and molecules are graphs. It turns out that simple statistics of e.g. shortest paths of a molecule can be quite powerful in representing its properties as a single number (or a few such numbers). We used similar approaches in [LTP](https://arxiv.org/abs/2305.00724) and [MOLTOP](https://arxiv.org/abs/2407.12136) models.\n",
    "\n",
    "Arguably the first computational approach in chemistry, using descriptors and statistics, was **Wiener index**:\n",
    "> Wiener, H. (1947), \"Structural determination of paraffin boiling points\", Journal of the American Chemical Society, 1 (69): 17–20\n",
    "\n",
    "It is defined as the sum of lengths of shortest paths between molecule atoms:\n",
    "$$\n",
    "W(G) = \\frac{1}{2} \\sum_{i=1}^N \\sum_{j=1}^N dist(v_i, v_j)\n",
    "$$\n",
    "\n",
    "Length of shortest path is the minimal number of bonds to go through between atoms $i$ and $j$. Note we have to divide by 2 due to symmetry - here we sum both $dist(v_i, v_j)$ and $dist(v_j, v_i)$ for simplicity.\n",
    "\n",
    "It turns out to be well correlated with many physico-chemical properties of alkanes (paraffins), e.g. boiling point (original Wiener's work), melting point, liquid density and viscocity, and more.\n",
    "\n",
    "Other references:\n",
    "- [Wikipedia page](https://en.wikipedia.org/wiki/Wiener_index)\n",
    "- [Wolfram MathWorld page](https://mathworld.wolfram.com/WienerIndex.html)\n",
    "\n",
    "Unfortunately, it is not implemented in RDKit."
   ]
  },
  {
   "cell_type": "markdown",
   "id": "1c0777d3-b9e7-41f9-b8ed-8f80fcadd2a4",
   "metadata": {},
   "source": [
    "### Exercise 4"
   ]
  },
  {
   "cell_type": "markdown",
   "id": "68d7f8f0-8c15-486b-b788-485828732ca1",
   "metadata": {},
   "source": [
    "Finish the implementation of `wiener_index()` function, which computes the Wiener index value for a molecule.\n",
    "\n",
    "`GetDistanceMatrix()` function in RDKit returns a matrix of shortest path distances between atoms as a NumPy array."
   ]
  },
  {
   "cell_type": "code",
   "execution_count": 79,
   "id": "306f236a-0a06-4d84-9ebb-077eb949f6d9",
   "metadata": {
    "ExecuteTime": {
     "end_time": "2025-02-23T12:55:57.527469Z",
     "start_time": "2025-02-23T12:55:57.378035Z"
    }
   },
   "outputs": [],
   "source": [
    "import numpy as np\n",
    "from rdkit.Chem import GetDistanceMatrix\n",
    "\n",
    "\n",
    "def wiener_index(mol: Mol) -> int:\n",
    "    dist_matrix = GetDistanceMatrix(mol)\n",
    "    return int(np.sum(dist_matrix) / 2)\n"
   ]
  },
  {
   "cell_type": "code",
   "execution_count": 80,
   "id": "aa2f656d-3293-44ce-88e3-c39c67ef64f8",
   "metadata": {
    "ExecuteTime": {
     "end_time": "2025-02-23T12:55:57.533697Z",
     "start_time": "2025-02-23T12:55:57.380490Z"
    }
   },
   "outputs": [
    {
     "name": "stdout",
     "output_type": "stream",
     "text": [
      "Ibuprofen Wiener index: 404\n",
      "Caffeine Wiener index: 258\n"
     ]
    }
   ],
   "source": [
    "assert np.isclose(wiener_index(ibuprofen_mol), 404)\n",
    "assert np.isclose(wiener_index(caffeine_mol), 258)\n",
    "\n",
    "print(f\"Ibuprofen Wiener index: {wiener_index(ibuprofen_mol)}\")\n",
    "print(f\"Caffeine Wiener index: {wiener_index(caffeine_mol)}\")"
   ]
  },
  {
   "cell_type": "markdown",
   "id": "4d0f6271-f8c8-4ca8-b356-5ecff94c1a5f",
   "metadata": {},
   "source": [
    "## 5. SMARTS patterns matching"
   ]
  },
  {
   "cell_type": "markdown",
   "id": "a2f94872-c0db-4de7-85c5-3eebb43fc77c",
   "metadata": {},
   "source": [
    "SMARTS is like regular expressions (regex / regexp) for molecules. It allows us to define patterns in strings to detect substructures, e.g. methyl group, or aromatic ring of size N. They aren't very fast, but highly expressive and concise.\n",
    "\n",
    "SMARTS matches, called **substructures**, are one of the most commonly used ML features, e.g. in searching and property prediction.\n",
    "\n",
    "Example references:\n",
    "- [Daylight - SMARTS - A Language for Describing Molecular Patterns](https://www.daylight.com/dayhtml/doc/theory/theory.smarts.html)\n",
    "- [Daylight - SMARTS examples](https://www.daylight.com/dayhtml_tutorials/languages/smarts/smarts_examples.html)\n",
    "- [Basic SMARTS patterns by R. Hanson](https://jcheminf.biomedcentral.com/articles/10.1186/s13321-016-0160-4/tables/6)\n",
    "- [SMARTS.plus visualizer](https://smarts.plus/)\n",
    "\n",
    "In RDKit, they are `Mol` objects, created as `MolFromSmarts`. They typically are \"templates\" with wildcards, which can match any atoms. To match them, `Mol` has methods:\n",
    "- `GetSubstructMatch()` - gets single match as list of atom indexes ([docs](https://www.rdkit.org/docs/source/rdkit.Chem.rdchem.html#rdkit.Chem.rdchem.Mol.GetSubstructMatch))\n",
    "- `GetSubstructMatches()` - gets a list of matches aslists of atoms' indexes ([docs](https://www.rdkit.org/docs/source/rdkit.Chem.rdchem.html#rdkit.Chem.rdchem.Mol.GetSubstructMatches))\n",
    "- `HasSubstructMatch()` - boolean whether we have at least 1 match ([docs](https://www.rdkit.org/docs/source/rdkit.Chem.rdchem.html#rdkit.Chem.rdchem.Mol.HasSubstructMatch))\n",
    "\n",
    "Let's check 6-membered aromatic ring."
   ]
  },
  {
   "cell_type": "code",
   "execution_count": 81,
   "id": "efd851cc-240d-4ea2-872a-999845f722b5",
   "metadata": {
    "ExecuteTime": {
     "end_time": "2025-02-23T12:55:57.538489Z",
     "start_time": "2025-02-23T12:55:57.392163Z"
    }
   },
   "outputs": [
    {
     "data": {
      "text/plain": "<rdkit.Chem.rdchem.Mol at 0x1272dcb30>",
      "image/png": "[encoded data removed]"
     },
     "execution_count": 81,
     "metadata": {},
     "output_type": "execute_result"
    }
   ],
   "source": [
    "from rdkit.Chem import MolFromSmarts\n",
    "\n",
    "ring_6_smarts = MolFromSmarts(\"a1aaaaa1\")\n",
    "ring_6_smarts"
   ]
  },
  {
   "cell_type": "markdown",
   "id": "83ccb8aa-25ea-4cb0-b6ec-c81659158085",
   "metadata": {},
   "source": [
    "To draw methyl group $CH_3$, it's useful to explicitly draw all hydrogens. `AddHs` also works on molecules created from SMARTS."
   ]
  },
  {
   "cell_type": "code",
   "execution_count": 82,
   "id": "3007e46c-d637-4bfe-99e9-2d74e27b8e25",
   "metadata": {
    "ExecuteTime": {
     "end_time": "2025-02-23T12:55:57.661635Z",
     "start_time": "2025-02-23T12:55:57.398862Z"
    }
   },
   "outputs": [
    {
     "name": "stdout",
     "output_type": "stream",
     "text": [
      "Methyl group, implicit hydrogens:\n"
     ]
    },
    {
     "data": {
      "text/plain": "<PIL.PngImagePlugin.PngImageFile image mode=RGB size=300x300>",
      "image/png": "[encoded data removed]",
      "image/jpeg": "[encoded data removed]"
     },
     "metadata": {},
     "output_type": "display_data"
    },
    {
     "name": "stdout",
     "output_type": "stream",
     "text": [
      "Methyl group, explicit hydrogens:\n"
     ]
    },
    {
     "data": {
      "text/plain": "<PIL.PngImagePlugin.PngImageFile image mode=RGB size=300x300>",
      "image/png": "[encoded data removed]",
      "image/jpeg": "[encoded data removed]"
     },
     "metadata": {},
     "output_type": "display_data"
    }
   ],
   "source": [
    "from rdkit.Chem import AddHs\n",
    "\n",
    "methyl_smarts = MolFromSmarts(\"[CH3]\")\n",
    "\n",
    "print(\"Methyl group, implicit hydrogens:\")\n",
    "display(MolToImage(methyl_smarts))\n",
    "\n",
    "print(\"Methyl group, explicit hydrogens:\")\n",
    "explicit_methyl_smarts = AddHs(methyl_smarts)\n",
    "display(MolToImage(explicit_methyl_smarts))"
   ]
  },
  {
   "cell_type": "markdown",
   "id": "373ddd5b-6ba7-4302-a38b-1cd329598a79",
   "metadata": {},
   "source": [
    "### Exercise 5"
   ]
  },
  {
   "cell_type": "markdown",
   "id": "e2565774-ad1b-41bb-a22f-1a7207b1eb87",
   "metadata": {},
   "source": [
    "Implement function `count_methyl_groups()`, which returns a number of methyl groups in a molecule."
   ]
  },
  {
   "cell_type": "code",
   "execution_count": 83,
   "id": "0c81f8a1-5476-4af7-b329-41e84dc52fa0",
   "metadata": {
    "ExecuteTime": {
     "end_time": "2025-02-23T12:55:57.662518Z",
     "start_time": "2025-02-23T12:55:57.417040Z"
    }
   },
   "outputs": [],
   "source": [
    "def count_methyl_groups(mol: Mol) -> int:\n",
    "    methyl_smarts = MolFromSmarts(\"[CH3]\")\n",
    "    explicit_mol = AddHs(mol)\n",
    "    return len(explicit_mol.GetSubstructMatches(methyl_smarts))\n"
   ]
  },
  {
   "cell_type": "code",
   "execution_count": 84,
   "id": "c602f172-fd9a-488b-ab29-e76aa051f812",
   "metadata": {
    "ExecuteTime": {
     "end_time": "2025-02-23T12:55:57.663321Z",
     "start_time": "2025-02-23T12:55:57.419049Z"
    }
   },
   "outputs": [
    {
     "name": "stdout",
     "output_type": "stream",
     "text": [
      "Ibuprofen has 3 methyl groups\n",
      "Caffeine has 3 methyl groups\n"
     ]
    }
   ],
   "source": [
    "assert count_methyl_groups(ibuprofen_mol) == 3\n",
    "assert count_methyl_groups(caffeine_mol) == 3\n",
    "\n",
    "print(f\"Ibuprofen has {count_methyl_groups(ibuprofen_mol)} methyl groups\")\n",
    "print(f\"Caffeine has {count_methyl_groups(caffeine_mol)} methyl groups\")"
   ]
  },
  {
   "cell_type": "markdown",
   "id": "e6087fbb-d518-42c8-bd99-282a8c83e804",
   "metadata": {},
   "source": [
    "## Bonus exercise"
   ]
  },
  {
   "cell_type": "markdown",
   "id": "e95b2da5-1719-42f7-a167-148f4f8c4da5",
   "metadata": {},
   "source": [
    "Wiener index was originally used to predict melting point of alkanes (paraffins), which are crucial elements of fuels. However, he used a very small dataset. One of the largest and highest quality datasets for melting point of molecules is [Jean-Claude Bradley Double Plus Good Melting Point Dataset](https://figshare.com/articles/dataset/Jean_Claude_Bradley_Double_Plus_Good_Highly_Curated_and_Validated_Melting_Point_Dataset/1031638?file=1503991). It uses data from multiple data sources and measurements, not only for alkanes.\n",
    "\n",
    "1. Download the dataset, read the CSV with Pandas.\n",
    "2. Get SMILES from `smiles` column and transform them to molecules.\n",
    "3. Get labels from `y` column - melting points in Celcius degrees.\n",
    "4. Some SMILES cannot be parsed by RDKit, and result in `None` molecules - remove those samples.\n",
    "5. Keep only alkanes, by using SMARTS `\"[CX4]\"`. If a molecule has such a match, it's an alkane.\n",
    "6. Visualize `y` on a histogram. Print minimal, maximal and median values. This will help you understand the target values.\n",
    "7. Wiener also suggested *polarity number* in his paper, which is number of shortest paths with length exactly 3. Implement `polarity_number()` function, which computes this feature.\n",
    "8. For each molecule, extract features using functions from above:\n",
    "   - Wiener index\n",
    "   - polarity number\n",
    "   - number of aromatic rings\n",
    "   - molecular weight\n",
    "   - logP\n",
    "10. Split molecules with random split into train-test in 75-25% proportions with scikit-learn.\n",
    "11. Train a simple linear regression. Calculate and print MAE and $R^2$ on training and testing dataset.\n",
    "12. Many papers about predicting physico-chemical properties of molecules use polynomial regression. Add polynomial features with degree 3 (`PolynomialFeatures` in scikit-learn) and re-run the regression. Compare MAE and $R^2$ values to plain linear regression."
   ]
  },
  {
   "cell_type": "code",
   "outputs": [
    {
     "name": "stdout",
     "output_type": "stream",
     "text": [
      "Requirement already satisfied: openpyxl in /Users/franciszekjob/Library/Caches/pypoetry/virtualenvs/molecular-ml-workshops-HCPKL7WN-py3.12/lib/python3.12/site-packages (3.1.5)\r\n",
      "Requirement already satisfied: et-xmlfile in /Users/franciszekjob/Library/Caches/pypoetry/virtualenvs/molecular-ml-workshops-HCPKL7WN-py3.12/lib/python3.12/site-packages (from openpyxl) (2.0.0)\r\n",
      "\r\n",
      "\u001B[1m[\u001B[0m\u001B[34;49mnotice\u001B[0m\u001B[1;39;49m]\u001B[0m\u001B[39;49m A new release of pip is available: \u001B[0m\u001B[31;49m24.3.1\u001B[0m\u001B[39;49m -> \u001B[0m\u001B[32;49m25.0.1\u001B[0m\r\n",
      "\u001B[1m[\u001B[0m\u001B[34;49mnotice\u001B[0m\u001B[1;39;49m]\u001B[0m\u001B[39;49m To update, run: \u001B[0m\u001B[32;49mpip install --upgrade pip\u001B[0m\r\n"
     ]
    }
   ],
   "source": [
    "!pip install openpyxl"
   ],
   "metadata": {
    "collapsed": false,
    "ExecuteTime": {
     "end_time": "2025-02-23T12:55:58.115468Z",
     "start_time": "2025-02-23T12:55:57.421762Z"
    }
   },
   "id": "b7d26cd477b563d5",
   "execution_count": 85
  },
  {
   "cell_type": "code",
   "outputs": [
    {
     "data": {
      "text/plain": "     key                 name                                      smiles  \\\n0  27956    cyclobutylmethane                                   C1(CCC1)C   \n1  16005       Nitrogen oxide                                  [O-][N+]#N   \n2  16127  Sulfuryl difluoride                                 FS(F)(=O)=O   \n3  17138         disopyramide  CC(C)N(CCC(c1ccccn1)(c2ccccc2)C(N)=O)C(C)C   \n4  15628              Bromine                                        BrBr   \n\n      mpC   csid                                             link  \\\n0 -161.51  11232  http://pubs.acs.org/doi/abs/10.1021/ja01142a048   \n1  -90.80    923                       http://msds.chem.ox.ac.uk/   \n2 -135.80  16647                       http://msds.chem.ox.ac.uk/   \n3   94.80   3002              http://dx.doi.org/10.1021/ci700307p   \n4   -7.20  22817                       http://msds.chem.ox.ac.uk/   \n\n                                              source  count     min    max  \\\n0  Lemaire HP; Livingston RL Journal of the Ameri...      2 -161.51 -161.5   \n1                                   academic website      2  -90.81  -90.8   \n2                                   academic website      2 -135.82 -135.8   \n3  Hughes LD; Palmer DS; Nigsch F and Mitchell JB...      2   94.75   94.8   \n4                                   academic website      2   -7.25   -7.2   \n\n   range  \n0   0.01  \n1   0.01  \n2   0.02  \n3   0.05  \n4   0.05  ",
      "text/html": "<div>\n<style scoped>\n    .dataframe tbody tr th:only-of-type {\n        vertical-align: middle;\n    }\n\n    .dataframe tbody tr th {\n        vertical-align: top;\n    }\n\n    .dataframe thead th {\n        text-align: right;\n    }\n</style>\n<table border=\"1\" class=\"dataframe\">\n  <thead>\n    <tr style=\"text-align: right;\">\n      <th></th>\n      <th>key</th>\n      <th>name</th>\n      <th>smiles</th>\n      <th>mpC</th>\n      <th>csid</th>\n      <th>link</th>\n      <th>source</th>\n      <th>count</th>\n      <th>min</th>\n      <th>max</th>\n      <th>range</th>\n    </tr>\n  </thead>\n  <tbody>\n    <tr>\n      <th>0</th>\n      <td>27956</td>\n      <td>cyclobutylmethane</td>\n      <td>C1(CCC1)C</td>\n      <td>-161.51</td>\n      <td>11232</td>\n      <td>http://pubs.acs.org/doi/abs/10.1021/ja01142a048</td>\n      <td>Lemaire HP; Livingston RL Journal of the Ameri...</td>\n      <td>2</td>\n      <td>-161.51</td>\n      <td>-161.5</td>\n      <td>0.01</td>\n    </tr>\n    <tr>\n      <th>1</th>\n      <td>16005</td>\n      <td>Nitrogen oxide</td>\n      <td>[O-][N+]#N</td>\n      <td>-90.80</td>\n      <td>923</td>\n      <td>http://msds.chem.ox.ac.uk/</td>\n      <td>academic website</td>\n      <td>2</td>\n      <td>-90.81</td>\n      <td>-90.8</td>\n      <td>0.01</td>\n    </tr>\n    <tr>\n      <th>2</th>\n      <td>16127</td>\n      <td>Sulfuryl difluoride</td>\n      <td>FS(F)(=O)=O</td>\n      <td>-135.80</td>\n      <td>16647</td>\n      <td>http://msds.chem.ox.ac.uk/</td>\n      <td>academic website</td>\n      <td>2</td>\n      <td>-135.82</td>\n      <td>-135.8</td>\n      <td>0.02</td>\n    </tr>\n    <tr>\n      <th>3</th>\n      <td>17138</td>\n      <td>disopyramide</td>\n      <td>CC(C)N(CCC(c1ccccn1)(c2ccccc2)C(N)=O)C(C)C</td>\n      <td>94.80</td>\n      <td>3002</td>\n      <td>http://dx.doi.org/10.1021/ci700307p</td>\n      <td>Hughes LD; Palmer DS; Nigsch F and Mitchell JB...</td>\n      <td>2</td>\n      <td>94.75</td>\n      <td>94.8</td>\n      <td>0.05</td>\n    </tr>\n    <tr>\n      <th>4</th>\n      <td>15628</td>\n      <td>Bromine</td>\n      <td>BrBr</td>\n      <td>-7.20</td>\n      <td>22817</td>\n      <td>http://msds.chem.ox.ac.uk/</td>\n      <td>academic website</td>\n      <td>2</td>\n      <td>-7.25</td>\n      <td>-7.2</td>\n      <td>0.05</td>\n    </tr>\n  </tbody>\n</table>\n</div>"
     },
     "execution_count": 86,
     "metadata": {},
     "output_type": "execute_result"
    }
   ],
   "source": [
    "import pandas as pd\n",
    "\n",
    "dataset = pd.read_excel(\"data/BradleyDoublePlusGoodMeltingPointDataset.xlsx\")\n",
    "dataset.head()"
   ],
   "metadata": {
    "ExecuteTime": {
     "end_time": "2025-02-23T12:55:58.413226Z",
     "start_time": "2025-02-23T12:55:58.112212Z"
    }
   },
   "id": "80590d7d-f8fe-404a-8123-619f07fd0348",
   "execution_count": 86
  },
  {
   "cell_type": "code",
   "outputs": [
    {
     "name": "stderr",
     "output_type": "stream",
     "text": [
      "[13:55:58] Can't kekulize mol.  Unkekulized atoms: 0 1 2 3 4\n",
      "[13:55:58] Can't kekulize mol.  Unkekulized atoms: 2 3 4 5 6\n",
      "[13:55:58] Can't kekulize mol.  Unkekulized atoms: 24 25 26 27 28 31 32 33 34\n",
      "[13:55:58] Can't kekulize mol.  Unkekulized atoms: 0 1 2 3 4\n",
      "[13:55:58] Can't kekulize mol.  Unkekulized atoms: 0 1 2 3 4 5 6 7 8\n",
      "[13:55:58] Can't kekulize mol.  Unkekulized atoms: 1 2 3 4 5 6 7 8 9\n",
      "[13:55:58] Can't kekulize mol.  Unkekulized atoms: 16 17 18 19 20 21 22 23 24\n",
      "[13:55:58] Can't kekulize mol.  Unkekulized atoms: 3 4 5 6 7 8 9 10 11\n",
      "[13:55:58] Can't kekulize mol.  Unkekulized atoms: 3 4 5 6 8\n",
      "[13:55:58] Can't kekulize mol.  Unkekulized atoms: 0 1 2 3 4 5 6 7 8\n",
      "[13:55:58] Can't kekulize mol.  Unkekulized atoms: 1 2 3 4 5 6 7 8 9\n",
      "[13:55:58] Can't kekulize mol.  Unkekulized atoms: 0 1 2 3 4 5 6 7 8\n",
      "[13:55:58] Can't kekulize mol.  Unkekulized atoms: 0 1 2 3 12 13 14 15 16\n",
      "[13:55:58] Can't kekulize mol.  Unkekulized atoms: 0 1 2 3 4 5 6 7 8\n",
      "[13:55:58] Can't kekulize mol.  Unkekulized atoms: 3 4 5 6 7\n",
      "[13:55:58] Can't kekulize mol.  Unkekulized atoms: 1 2 3 4 5 6 7 8 9\n"
     ]
    }
   ],
   "source": [
    "mols = dataset['smiles'].apply(MolFromSmiles)\n",
    "mpCs = dataset['mpC']"
   ],
   "metadata": {
    "collapsed": false,
    "ExecuteTime": {
     "end_time": "2025-02-23T12:55:58.570629Z",
     "start_time": "2025-02-23T12:55:58.420928Z"
    }
   },
   "id": "969032924da8b2d2",
   "execution_count": 87
  },
  {
   "cell_type": "code",
   "outputs": [],
   "source": [
    "filtered_mols = []\n",
    "filtered_mpCs = []\n",
    "\n",
    "for mol, mpC in zip(mols, mpCs):\n",
    "    if mol is not None:\n",
    "        filtered_mols.append(mol)\n",
    "        filtered_mpCs.append(mpC)"
   ],
   "metadata": {
    "collapsed": false,
    "ExecuteTime": {
     "end_time": "2025-02-23T12:55:58.591289Z",
     "start_time": "2025-02-23T12:55:58.580489Z"
    }
   },
   "id": "9ce6c9058f74b00e",
   "execution_count": 88
  },
  {
   "cell_type": "code",
   "outputs": [
    {
     "name": "stdout",
     "output_type": "stream",
     "text": [
      "len(alcanes): 2193\n"
     ]
    }
   ],
   "source": [
    "# we're keeping only alcanes\n",
    "\n",
    "alcan_moles = []\n",
    "alcan_mpCs = []\n",
    "\n",
    "for mol, mpC in zip(filtered_mols, filtered_mpCs):\n",
    "    if mol.HasSubstructMatch(MolFromSmarts(\"[CX4]\")):\n",
    "        alcan_moles.append(mol)\n",
    "        alcan_mpCs.append(mpC)\n",
    "\n",
    "print(\"len(alcanes):\", len(alcan_moles))\n"
   ],
   "metadata": {
    "collapsed": false,
    "ExecuteTime": {
     "end_time": "2025-02-23T12:55:58.705128Z",
     "start_time": "2025-02-23T12:55:58.596369Z"
    }
   },
   "id": "40f08f7b44ac7425",
   "execution_count": 89
  },
  {
   "cell_type": "code",
   "outputs": [
    {
     "data": {
      "text/plain": "<Figure size 640x480 with 1 Axes>",
      "image/png": "[encoded data removed]"
     },
     "metadata": {},
     "output_type": "display_data"
    },
    {
     "name": "stdout",
     "output_type": "stream",
     "text": [
      "Minimal melting point: -188.0°C\n",
      "Maximal melting point: 330.5°C\n",
      "Median melting point: 48.0°C\n"
     ]
    }
   ],
   "source": [
    "# visualize y on histogram\n",
    "import matplotlib.pyplot as plt\n",
    "\n",
    "plt.hist(alcan_mpCs)\n",
    "plt.xlabel(\"Melting point [°C]\")\n",
    "plt.ylabel(\"Frequency\")\n",
    "plt.title(\"Melting point distribution\")\n",
    "plt.show()\n",
    "\n",
    "minimal_mpC = min(alcan_mpCs)\n",
    "maximal_mpC = max(alcan_mpCs)\n",
    "median_mpC = np.median(alcan_mpCs)\n",
    "\n",
    "print(f\"Minimal melting point: {minimal_mpC}°C\")\n",
    "print(f\"Maximal melting point: {maximal_mpC}°C\")\n",
    "print(f\"Median melting point: {median_mpC}°C\")"
   ],
   "metadata": {
    "collapsed": false,
    "ExecuteTime": {
     "end_time": "2025-02-23T12:55:58.847957Z",
     "start_time": "2025-02-23T12:55:58.636588Z"
    }
   },
   "id": "82c7c5578d3bcd74",
   "execution_count": 90
  },
  {
   "cell_type": "code",
   "outputs": [],
   "source": [
    "def polarity_number(mol: Mol) -> int:\n",
    "    dist_matrix = GetDistanceMatrix(mol)\n",
    "    return int(np.sum(dist_matrix == 3) / 2)"
   ],
   "metadata": {
    "collapsed": false,
    "ExecuteTime": {
     "end_time": "2025-02-23T12:55:58.984454Z",
     "start_time": "2025-02-23T12:55:58.841034Z"
    }
   },
   "id": "b37928c122a70bc9",
   "execution_count": 91
  },
  {
   "cell_type": "code",
   "outputs": [],
   "source": [
    "features = [\n",
    "    [\n",
    "        wiener_index(mol),\n",
    "        polarity_number(mol),\n",
    "        get_num_aromatic_rings(mol),\n",
    "        MolWt(mol),\n",
    "        MolLogP(mol),\n",
    "    ]\n",
    "    for mol in alcan_moles\n",
    "]\n",
    "labels = alcan_mpCs"
   ],
   "metadata": {
    "collapsed": false,
    "ExecuteTime": {
     "end_time": "2025-02-23T12:56:00.343659Z",
     "start_time": "2025-02-23T12:55:58.963812Z"
    }
   },
   "id": "ffb38aca275e4fb5",
   "execution_count": 92
  },
  {
   "cell_type": "code",
   "outputs": [
    {
     "name": "stdout",
     "output_type": "stream",
     "text": [
      "Train MAE: 51.308958736111826\n",
      "Train R^2: 0.5262487606425477\n",
      "Test MAE: 49.72582923688234\n",
      "Test R^2: 0.5689239930834152\n"
     ]
    }
   ],
   "source": [
    "from sklearn.linear_model import LinearRegression\n",
    "from sklearn.model_selection import train_test_split\n",
    "\n",
    "X_train, X_test, y_train, y_test = train_test_split(features, labels, test_size=0.25, random_state=42)\n",
    "\n",
    "model = LinearRegression()\n",
    "\n",
    "model.fit(X_train, y_train)\n",
    "\n",
    "train_preds = model.predict(X_train)\n",
    "\n",
    "test_preds = model.predict(X_test)\n",
    "\n",
    "from sklearn.metrics import mean_absolute_error, r2_score\n",
    "\n",
    "train_mae = mean_absolute_error(y_train, train_preds)\n",
    "train_r2 = r2_score(y_train, train_preds)\n",
    "\n",
    "test_mae = mean_absolute_error(y_test, test_preds)\n",
    "test_r2 = r2_score(y_test, test_preds)\n",
    "\n",
    "print(\"Train MAE:\", train_mae)\n",
    "print(\"Train R^2:\", train_r2)\n",
    "\n",
    "print(\"Test MAE:\", test_mae)\n",
    "print(\"Test R^2:\", test_r2)"
   ],
   "metadata": {
    "collapsed": false,
    "ExecuteTime": {
     "end_time": "2025-02-23T12:56:00.352823Z",
     "start_time": "2025-02-23T12:56:00.344879Z"
    }
   },
   "id": "9120a6b57acac5db",
   "execution_count": 93
  },
  {
   "cell_type": "code",
   "outputs": [
    {
     "name": "stdout",
     "output_type": "stream",
     "text": [
      "Train MAE: 40.12121484426549\n",
      "Train R^2: 0.6950262534249128\n",
      "Test MAE: 40.052612097741296\n",
      "Test R^2: 0.6411632851222758\n"
     ]
    }
   ],
   "source": [
    "# polynomial\n",
    "\n",
    "from sklearn.preprocessing import PolynomialFeatures\n",
    "from sklearn.pipeline import make_pipeline\n",
    "\n",
    "poly_model = make_pipeline(PolynomialFeatures(3), LinearRegression())\n",
    "\n",
    "poly_model.fit(X_train, y_train)\n",
    "\n",
    "train_preds = poly_model.predict(X_train)\n",
    "\n",
    "test_preds = poly_model.predict(X_test)\n",
    "\n",
    "train_mae = mean_absolute_error(y_train, train_preds)\n",
    "train_r2 = r2_score(y_train, train_preds)\n",
    "\n",
    "test_mae = mean_absolute_error(y_test, test_preds)\n",
    "test_r2 = r2_score(y_test, test_preds)\n",
    "\n",
    "print(\"Train MAE:\", train_mae)\n",
    "print(\"Train R^2:\", train_r2)\n",
    "\n",
    "print(\"Test MAE:\", test_mae)\n",
    "print(\"Test R^2:\", test_r2)"
   ],
   "metadata": {
    "collapsed": false,
    "ExecuteTime": {
     "end_time": "2025-02-23T12:57:00.372189Z",
     "start_time": "2025-02-23T12:57:00.182988Z"
    }
   },
   "id": "a76b3304365fb41e",
   "execution_count": 94
  }
 ],
 "metadata": {
  "kernelspec": {
   "display_name": "Python 3 (ipykernel)",
   "language": "python",
   "name": "python3"
  },
  "language_info": {
   "codemirror_mode": {
    "name": "ipython",
    "version": 3
   },
   "file_extension": ".py",
   "mimetype": "text/x-python",
   "name": "python",
   "nbconvert_exporter": "python",
   "pygments_lexer": "ipython3",
   "version": "3.11.10"
  }
 },
 "nbformat": 4,
 "nbformat_minor": 5
}
