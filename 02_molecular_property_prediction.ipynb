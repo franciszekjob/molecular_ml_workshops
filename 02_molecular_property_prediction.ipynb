{
 "cells": [
  {
   "cell_type": "markdown",
   "id": "857f895e4c2ded45",
   "metadata": {
    "collapsed": false,
    "jupyter": {
     "outputs_hidden": false
    }
   },
   "source": [
    "# Molecular property prediction"
   ]
  },
  {
   "cell_type": "markdown",
   "id": "47292e9e-f8ec-41e3-b685-31e861a35d9f",
   "metadata": {},
   "source": [
    "Install dependencies if necessary (uncomment and run):"
   ]
  },
  {
   "cell_type": "code",
   "execution_count": 1,
   "id": "2de91fa2dc3b3443",
   "metadata": {
    "collapsed": false,
    "execution": {
     "iopub.execute_input": "2024-11-09T21:15:27.914304Z",
     "iopub.status.busy": "2024-11-09T21:15:27.914130Z",
     "iopub.status.idle": "2024-11-09T21:15:27.916882Z",
     "shell.execute_reply": "2024-11-09T21:15:27.916454Z",
     "shell.execute_reply.started": "2024-11-09T21:15:27.914286Z"
    },
    "jupyter": {
     "outputs_hidden": false
    }
   },
   "outputs": [],
   "source": [
    "# !pip install -r requirements.txt"
   ]
  },
  {
   "cell_type": "markdown",
   "id": "9923fb4b525f8889",
   "metadata": {
    "collapsed": false,
    "jupyter": {
     "outputs_hidden": false
    }
   },
   "source": [
    "## 1. Molecular property prediction dataset\n",
    "\n",
    "We will use BACE dataset from the [MoleculeNet benchmark](https://arxiv.org/abs/1703.00564). Throughout this notebook, we will also make heavy use of [scikit-fingerprints library](https://github.com/scikit-fingerprints/scikit-fingerprints), which is a scikit-learn compatible library built around RDKit.\n",
    "\n",
    "The task is classifying inhibitors of Beta-Secretase 1 - a protein enzyme playing a significant role in development of Alzheimer’s disease. This is binary graph classification: molecule inhibits protein production or not.\n",
    "\n",
    "For more information, see: [\"Computational Modeling of β-Secretase 1 (BACE-1) Inhibitors Using Ligand Based Approaches\" G. Subramanian et al.](https://pubs.acs.org/doi/10.1021/acs.jcim.6b00290)\n",
    "\n",
    "scikit-fingerprints has its own data loaders for several popular datasets."
   ]
  },
  {
   "cell_type": "code",
   "execution_count": 15,
   "id": "a7a730860462b9a3",
   "metadata": {
    "collapsed": false,
    "execution": {
     "iopub.execute_input": "2024-11-09T21:16:22.099353Z",
     "iopub.status.busy": "2024-11-09T21:16:22.098697Z",
     "iopub.status.idle": "2024-11-09T21:16:22.576284Z",
     "shell.execute_reply": "2024-11-09T21:16:22.573950Z",
     "shell.execute_reply.started": "2024-11-09T21:16:22.099321Z"
    },
    "jupyter": {
     "outputs_hidden": false
    }
   },
   "outputs": [
    {
     "name": "stdout",
     "output_type": "stream",
     "text": [
      "Example molecule: O1CC[C@@H](NC(=O)[C@@H](Cc2cc3cc(ccc3nc2N)-c2ccccc2C)C)CC1(C)C\n",
      "Example class: 1\n"
     ]
    }
   ],
   "source": [
    "from skfp.datasets.moleculenet import load_bace\n",
    "\n",
    "smiles_list, y = load_bace()\n",
    "\n",
    "print(f\"Example molecule: {smiles_list[0]}\")\n",
    "print(f\"Example class: {y[0]}\")"
   ]
  },
  {
   "cell_type": "markdown",
   "id": "ad27702a3ef5a42b",
   "metadata": {
    "collapsed": false,
    "jupyter": {
     "outputs_hidden": false
    }
   },
   "source": [
    "## 2. Preprocessing"
   ]
  },
  {
   "cell_type": "markdown",
   "id": "8c867a4f-1cf2-46f0-8372-0d34499d01d1",
   "metadata": {},
   "source": [
    "### SMILES -> Mol conversion\n",
    "\n",
    "We already covered converting SMILES to RDKit `Mol` objects with pure RDKit. Its function works on one string at a time.\n",
    "\n",
    "scikit-fingerprints allows us to do that for entire dataset with `MolFromSmilesTransformer`. It has the same `.transform()` method as other scikit-learn objects. Note that most classes in scikit-fingerprints do not need `.fit()` call before first usage."
   ]
  },
  {
   "cell_type": "code",
   "execution_count": 16,
   "id": "a026e271920bafce",
   "metadata": {
    "collapsed": false,
    "execution": {
     "iopub.execute_input": "2024-11-09T21:16:24.605960Z",
     "iopub.status.busy": "2024-11-09T21:16:24.604895Z",
     "iopub.status.idle": "2024-11-09T21:16:24.887660Z",
     "shell.execute_reply": "2024-11-09T21:16:24.887021Z",
     "shell.execute_reply.started": "2024-11-09T21:16:24.605868Z"
    },
    "jupyter": {
     "outputs_hidden": false
    }
   },
   "outputs": [],
   "source": [
    "from skfp.preprocessing import MolFromSmilesTransformer\n",
    "\n",
    "mol_from_smiles = MolFromSmilesTransformer()\n",
    "\n",
    "mols = mol_from_smiles.transform(smiles_list)"
   ]
  },
  {
   "cell_type": "markdown",
   "id": "eeedb1d3-0cd7-4d80-862d-09b798a7c76f",
   "metadata": {},
   "source": [
    "### Scaffold Split\n",
    "\n",
    "In molecular property prediction, we typically **don't** use random or stratified random split.\n",
    "\n",
    "In the real-world drug design problems, a trained ML model has to perform well on newly designed molecules. They differ significantly from the ones seen in the training set, e.g. to be patentable. We need a splitting strategy that will force and test **out-of-distribution (OOD) generalization**.\n",
    "\n",
    "We can group the molecules by the similarity of their core internal structure, called **scaffold**. This effectively splits the data into sets that differ from one another.\n",
    "\n",
    "It's important to note that there are some slight variations of scaffold split. They differ in definition what is a \"core\" part of the molecule. Most benchmarks provide explicit splits for datasets, e.g. Open Graph Benchmark ([OGB](https://ogb.stanford.edu/)) provides standardized scaffold splits for MoleculeNet."
   ]
  },
  {
   "cell_type": "code",
   "execution_count": 17,
   "id": "8beacf48077f097c",
   "metadata": {
    "collapsed": false,
    "execution": {
     "iopub.execute_input": "2024-11-09T21:16:26.749586Z",
     "iopub.status.busy": "2024-11-09T21:16:26.749397Z",
     "iopub.status.idle": "2024-11-09T21:16:27.141587Z",
     "shell.execute_reply": "2024-11-09T21:16:27.141040Z",
     "shell.execute_reply.started": "2024-11-09T21:16:26.749571Z"
    },
    "jupyter": {
     "outputs_hidden": false
    }
   },
   "outputs": [
    {
     "name": "stdout",
     "output_type": "stream",
     "text": [
      "Train set size: 1210\n",
      "Test set size: 303\n"
     ]
    }
   ],
   "source": [
    "from skfp.model_selection import scaffold_train_test_split\n",
    "\n",
    "\n",
    "mols_train, mols_test, y_train, y_test = scaffold_train_test_split(mols, y, test_size=0.2)\n",
    "\n",
    "print(f\"Train set size: {len(mols_train)}\")\n",
    "print(f\"Test set size: {len(mols_test)}\")"
   ]
  },
  {
   "cell_type": "code",
   "execution_count": 18,
   "id": "511d9323ab7e81a0",
   "metadata": {
    "collapsed": false,
    "execution": {
     "iopub.execute_input": "2024-11-09T21:16:27.142428Z",
     "iopub.status.busy": "2024-11-09T21:16:27.142268Z",
     "iopub.status.idle": "2024-11-09T21:16:27.152178Z",
     "shell.execute_reply": "2024-11-09T21:16:27.151628Z",
     "shell.execute_reply.started": "2024-11-09T21:16:27.142415Z"
    },
    "jupyter": {
     "outputs_hidden": false
    }
   },
   "outputs": [
    {
     "data": {
      "image/png": "[encoded data removed]",
      "text/plain": [
       "<rdkit.Chem.rdchem.Mol at 0x713e43c59e00>"
      ]
     },
     "execution_count": 18,
     "metadata": {},
     "output_type": "execute_result"
    }
   ],
   "source": [
    "mols_train[0]"
   ]
  },
  {
   "cell_type": "code",
   "execution_count": 19,
   "id": "a05d04588835999a",
   "metadata": {
    "collapsed": false,
    "execution": {
     "iopub.execute_input": "2024-11-09T21:16:28.038710Z",
     "iopub.status.busy": "2024-11-09T21:16:28.037964Z",
     "iopub.status.idle": "2024-11-09T21:16:28.051366Z",
     "shell.execute_reply": "2024-11-09T21:16:28.050882Z",
     "shell.execute_reply.started": "2024-11-09T21:16:28.038648Z"
    },
    "jupyter": {
     "outputs_hidden": false
    }
   },
   "outputs": [
    {
     "data": {
      "image/png": "[encoded data removed]",
      "text/plain": [
       "<rdkit.Chem.rdchem.Mol at 0x713e455442e0>"
      ]
     },
     "execution_count": 19,
     "metadata": {},
     "output_type": "execute_result"
    }
   ],
   "source": [
    "from rdkit.Chem.Scaffolds.MurckoScaffold import GetScaffoldForMol\n",
    "\n",
    "\n",
    "GetScaffoldForMol(mols_train[0])"
   ]
  },
  {
   "cell_type": "markdown",
   "id": "a2a7fba3-7867-4019-928e-052c27e12886",
   "metadata": {},
   "source": [
    "### Standardize\n",
    "\n",
    "Molecular standardizer performs basic sanitization and standardization of the molecule object. It will make sure that e.g. certain functional groups or electric charges are represented in a uniform way."
   ]
  },
  {
   "cell_type": "code",
   "execution_count": 20,
   "id": "677c1711bc2942fe",
   "metadata": {
    "collapsed": false,
    "execution": {
     "iopub.execute_input": "2024-11-09T21:16:36.547035Z",
     "iopub.status.busy": "2024-11-09T21:16:36.546805Z",
     "iopub.status.idle": "2024-11-09T21:16:37.996063Z",
     "shell.execute_reply": "2024-11-09T21:16:37.995524Z",
     "shell.execute_reply.started": "2024-11-09T21:16:36.547018Z"
    },
    "jupyter": {
     "outputs_hidden": false
    }
   },
   "outputs": [],
   "source": [
    "from skfp.preprocessing import MolStandardizer\n",
    "\n",
    "\n",
    "standardizer = MolStandardizer()\n",
    "\n",
    "mols_train = standardizer.transform(mols_train)\n",
    "mols_test = standardizer.transform(mols_test)"
   ]
  },
  {
   "cell_type": "markdown",
   "id": "e8f02792d5f4d050",
   "metadata": {
    "collapsed": false,
    "jupyter": {
     "outputs_hidden": false
    }
   },
   "source": [
    "## 3. Classification with molecular fingerprints\n",
    "\n",
    "To transform molecules into feature vectors, we will moleculecular fingerprints. scikit-fingeprints implements a lot of those.\n",
    "\n",
    "We will start with popular ECFP fingerprint, which is a hashed fingerprint, using circular substructures. This turns our dataset into typical tabular classification problem. Then, we can use any off-the-shelf classifier, like Random Forest.\n",
    "\n",
    "This is a single-task dataset. In chemistry, we often have **multitask** datasets, where we do many classifications at once. For example, molecule can be toxic in many different ways. `multioutput_auroc_score` in scikit-fingerprints will work in both single-task and multitask cases."
   ]
  },
  {
   "cell_type": "code",
   "execution_count": 21,
   "id": "386ab00e-428b-428a-86c3-004ec2e31b84",
   "metadata": {
    "execution": {
     "iopub.execute_input": "2024-11-09T21:16:37.997044Z",
     "iopub.status.busy": "2024-11-09T21:16:37.996793Z",
     "iopub.status.idle": "2024-11-09T21:16:38.149973Z",
     "shell.execute_reply": "2024-11-09T21:16:38.149427Z",
     "shell.execute_reply.started": "2024-11-09T21:16:37.997030Z"
    }
   },
   "outputs": [
    {
     "name": "stdout",
     "output_type": "stream",
     "text": [
      "Fingerprint data shape: (1210, 2048)\n",
      "Example vector: [0 1 0 ... 0 0 0]\n"
     ]
    }
   ],
   "source": [
    "from skfp.fingerprints import ECFPFingerprint\n",
    "\n",
    "\n",
    "# create fingerprint transformer object\n",
    "ecfp_fp = ECFPFingerprint()\n",
    "\n",
    "# transform molecules into feature vectors\n",
    "X_train_ecfp = ecfp_fp.transform(mols_train)\n",
    "X_test_ecfp = ecfp_fp.transform(mols_test)\n",
    "\n",
    "print(f\"Fingerprint data shape: {X_train_ecfp.shape}\")\n",
    "print(f\"Example vector: {X_train_ecfp[0]}\")"
   ]
  },
  {
   "cell_type": "code",
   "execution_count": 14,
   "id": "48ee7255-238b-4002-a4c0-d7ffb28e61e0",
   "metadata": {
    "execution": {
     "iopub.execute_input": "2024-11-09T21:16:05.063242Z",
     "iopub.status.busy": "2024-11-09T21:16:05.062497Z",
     "iopub.status.idle": "2024-11-09T21:16:05.273641Z",
     "shell.execute_reply": "2024-11-09T21:16:05.273240Z",
     "shell.execute_reply.started": "2024-11-09T21:16:05.063181Z"
    }
   },
   "outputs": [
    {
     "name": "stdout",
     "output_type": "stream",
     "text": [
      "ECFP AUROC for Random Forest: 41.87%\n"
     ]
    }
   ],
   "source": [
    "from sklearn.ensemble import RandomForestClassifier\n",
    "from skfp.metrics import multioutput_auroc_score\n",
    "\n",
    "\n",
    "clf = RandomForestClassifier(n_jobs=-1, random_state=0)\n",
    "clf.fit(X_train_ecfp, y_train)\n",
    "\n",
    "y_pred = clf.predict_proba(X_test_ecfp)[:, 1]\n",
    "auroc = multioutput_auroc_score(y_test, y_pred)\n",
    "\n",
    "print(f\"ECFP AUROC for Random Forest: {auroc:.2%}\")"
   ]
  },
  {
   "cell_type": "markdown",
   "id": "6ab5e102-e35b-4fc0-9452-b3a7d1101d8f",
   "metadata": {},
   "source": [
    "We can also other models, such as k-nearest-neighbours. Note that we have either binary or count vectors, so we should use an appropriate distance. It is typically Tanimoto distance\n",
    "\n",
    "Binary Tanimoto distance formula:\n",
    "\n",
    "$$\n",
    "\\text{dist}(\\vec{a}, \\vec{b}) = 1 - \\frac{|\\vec{a} \\cap \\vec{b}|}{|\\vec{a}| + |\\vec{b}| - |\\vec{a} \\cap \\vec{b}|}\n",
    "$$\n",
    "\n",
    "We can also define Tanimoto distance for count data:\n",
    "\n",
    "$$\n",
    "\\text{dist}(\\vec{a}, \\vec{b}) = 1 - \\frac{\\vec{a} \\cdot \\vec{b}}{\\|\\vec{a}\\|^2 + \\|\\vec{b}\\|^2 - \\vec{a} \\cdot \\vec{b}}\n",
    "$$\n",
    "\n",
    "If you're interested why Tanimoto distance is used, see e.g. [\"Why is Tanimoto index an appropriate choice for fingerprint-based similarity calculations?\" D. Bajusz et al.](https://doi.org/10.1186/s13321-015-0069-3)."
   ]
  },
  {
   "cell_type": "markdown",
   "id": "d70e7658ecf7a1d1",
   "metadata": {
    "collapsed": false,
    "jupyter": {
     "outputs_hidden": false
    }
   },
   "source": [
    "### Exercise 1\n",
    "\n",
    "Implement kNN classifier, using count ECFP fingerprints and Tanimoto distance. Use [scikit-fingerprints documentation on Tanimoto distance](https://scikit-fingerprints.github.io/scikit-fingerprints/) if necessary."
   ]
  },
  {
   "cell_type": "code",
   "execution_count": 10,
   "id": "c32519b4-1c04-4196-b2d8-de95b0c2f22b",
   "metadata": {
    "execution": {
     "iopub.execute_input": "2024-11-09T21:06:57.240298Z",
     "iopub.status.busy": "2024-11-09T21:06:57.239702Z",
     "iopub.status.idle": "2024-11-09T21:06:57.242741Z",
     "shell.execute_reply": "2024-11-09T21:06:57.242160Z",
     "shell.execute_reply.started": "2024-11-09T21:06:57.240274Z"
    }
   },
   "outputs": [],
   "source": [
    "# import Tanimoto count distance from scikit-fingerprints\n",
    "...\n",
    "\n",
    "# create kNN model with appropriate metric\n",
    "...\n",
    "\n",
    "# fit, predict\n",
    "...\n",
    "\n",
    "# calculate and print AUROC score\n",
    "..."
   ]
  },
  {
   "cell_type": "markdown",
   "id": "433a208485dd03c9",
   "metadata": {
    "collapsed": false,
    "jupyter": {
     "outputs_hidden": false
    }
   },
   "source": [
    "### Exercise 2\n",
    "\n",
    "scikit-fingerprints implements over 30 different algorithms. Another popular choice besides ECFP is MACCS, a substructure-based fingerprint.\n",
    "\n",
    "Implement Random Forest model on binary MACCS fingerprint. Use [scikit-fingerprints documentation](https://scikit-fingerprints.github.io/scikit-fingerprints/) as needed."
   ]
  },
  {
   "cell_type": "code",
   "execution_count": 11,
   "id": "5899f92f47c88477",
   "metadata": {
    "collapsed": false,
    "execution": {
     "iopub.execute_input": "2024-11-09T21:06:57.243515Z",
     "iopub.status.busy": "2024-11-09T21:06:57.243305Z",
     "iopub.status.idle": "2024-11-09T21:06:57.254237Z",
     "shell.execute_reply": "2024-11-09T21:06:57.253692Z",
     "shell.execute_reply.started": "2024-11-09T21:06:57.243493Z"
    },
    "jupyter": {
     "outputs_hidden": false
    }
   },
   "outputs": [],
   "source": [
    "# import MACCS fingerprint\n",
    "...\n",
    "\n",
    "# create MACCS transformer, calculate fingerprints\n",
    "...\n",
    "\n",
    "# train Random Forest, predict\n",
    "...\n",
    "\n",
    "# calculate and print AUROC score\n",
    "..."
   ]
  },
  {
   "cell_type": "markdown",
   "id": "d6d20bbc268a2349",
   "metadata": {
    "collapsed": false,
    "jupyter": {
     "outputs_hidden": false
    }
   },
   "source": [
    "## 4. Hyperparameter tuning"
   ]
  },
  {
   "cell_type": "markdown",
   "id": "8cb0e882-f0e3-48b6-b1b9-fe3fc77b940e",
   "metadata": {},
   "source": [
    "Molecular fingerprints have many hyperparameters that can be tuned. It's rarely done in papers, but can sometimes greatly improve performance.\n",
    "\n",
    "Examples are:\n",
    "- binary vs count variant\n",
    "- length / number of bits\n",
    "- ECFP radius\n",
    "\n",
    "scikit-fingerprints implements `FingerprintEstimatorGridSearch` class for this. It can speed up the tuning of fingerprint and classifier, by avoiding unnecessary recalculations of the fingerprint.\n",
    "\n",
    "Firstly, we will prepare tuning of the classifier."
   ]
  },
  {
   "cell_type": "code",
   "execution_count": 12,
   "id": "233d71c3bdf3e508",
   "metadata": {
    "collapsed": false,
    "execution": {
     "iopub.execute_input": "2024-11-09T21:06:57.254981Z",
     "iopub.status.busy": "2024-11-09T21:06:57.254809Z",
     "iopub.status.idle": "2024-11-09T21:06:57.258497Z",
     "shell.execute_reply": "2024-11-09T21:06:57.258071Z",
     "shell.execute_reply.started": "2024-11-09T21:06:57.254966Z"
    },
    "jupyter": {
     "outputs_hidden": false
    }
   },
   "outputs": [],
   "source": [
    "from sklearn.model_selection import GridSearchCV\n",
    "from sklearn.metrics import make_scorer\n",
    "\n",
    "clf = RandomForestClassifier(n_jobs=-1, random_state=0)\n",
    "\n",
    "clf_param_grid = {\"n_estimators\": [200, 500, 1000]}\n",
    "\n",
    "scorer = make_scorer(multioutput_auroc_score, greater_is_better=True)\n",
    "\n",
    "gridsearch_cv = GridSearchCV(\n",
    "    estimator=clf,\n",
    "    param_grid=clf_param_grid,\n",
    "    scoring=scorer,\n",
    "    verbose=2,\n",
    "    cv=5,\n",
    "    n_jobs=-1,\n",
    ")"
   ]
  },
  {
   "cell_type": "markdown",
   "id": "6331d96c-0bef-47d9-8813-b51cc32a9d88",
   "metadata": {},
   "source": [
    "Now, we will set up the tuning of the fingerprint. `FingerprintEstimatorGridSearch` takes the fingeprints, its grid search, and the classifier grid search tuning objects."
   ]
  },
  {
   "cell_type": "code",
   "execution_count": 13,
   "id": "cde79eeda1e8fb81",
   "metadata": {
    "collapsed": false,
    "execution": {
     "iopub.execute_input": "2024-11-09T21:06:57.259496Z",
     "iopub.status.busy": "2024-11-09T21:06:57.259136Z",
     "iopub.status.idle": "2024-11-09T21:06:57.263528Z",
     "shell.execute_reply": "2024-11-09T21:06:57.262868Z",
     "shell.execute_reply.started": "2024-11-09T21:06:57.259471Z"
    },
    "jupyter": {
     "outputs_hidden": false
    }
   },
   "outputs": [],
   "source": [
    "from skfp.model_selection import FingerprintEstimatorGridSearch\n",
    "\n",
    "ecfp_fp = ECFPFingerprint()\n",
    "\n",
    "fp_grid = {\n",
    "    \"fp_size\": [1024, 2048, 4096],\n",
    "    \"radius\": [2, 3],\n",
    "    \"count\": [False, True],\n",
    "}\n",
    "\n",
    "fp_estimator_cv = FingerprintEstimatorGridSearch(\n",
    "    fingerprint=ecfp_fp,\n",
    "    fp_param_grid=fp_grid,\n",
    "    estimator_cv=gridsearch_cv,\n",
    "    greater_is_better=True,\n",
    ")"
   ]
  },
  {
   "cell_type": "markdown",
   "id": "fe02da2b-789a-4651-9c67-65a9a7ac18ad",
   "metadata": {},
   "source": [
    "Let's perform the tuning now. We will also check the time, best hyperparameters, and performance after tuning."
   ]
  },
  {
   "cell_type": "code",
   "execution_count": 14,
   "id": "48a7ffef6e7908ed",
   "metadata": {
    "collapsed": false,
    "execution": {
     "iopub.execute_input": "2024-11-09T21:06:57.264444Z",
     "iopub.status.busy": "2024-11-09T21:06:57.264134Z",
     "iopub.status.idle": "2024-11-09T21:07:06.990437Z",
     "shell.execute_reply": "2024-11-09T21:07:06.989535Z",
     "shell.execute_reply.started": "2024-11-09T21:06:57.264427Z"
    },
    "jupyter": {
     "outputs_hidden": false
    },
    "scrolled": true
   },
   "outputs": [
    {
     "name": "stdout",
     "output_type": "stream",
     "text": [
      "Fitting 5 folds for each of 3 candidates, totalling 15 fits\n",
      "Fitting 5 folds for each of 3 candidates, totalling 15 fits\n",
      "[CV] END ...................................n_estimators=500; total time=   3.4s\n",
      "[CV] END ...................................n_estimators=200; total time=   1.5s\n",
      "[CV] END ...................................n_estimators=500; total time=   3.5s\n",
      "[CV] END ...................................n_estimators=500; total time=   3.3s\n",
      "[CV] END ..................................n_estimators=1000; total time=   5.6s\n",
      "[CV] END ...................................n_estimators=200; total time=   1.5s\n",
      "[CV] END ..................................n_estimators=1000; total time=   4.4s\n",
      "[CV] END ...................................n_estimators=200; total time=   1.4s\n",
      "[CV] END ..................................n_estimators=1000; total time=   4.6s\n",
      "[CV] END ...................................n_estimators=200; total time=   1.5s\n"
     ]
    },
    {
     "name": "stderr",
     "output_type": "stream",
     "text": [
      "Process LokyProcess-1:\n",
      "Traceback (most recent call last):\n",
      "  File \"/home/jakub/.cache/pypoetry/virtualenvs/molecular-ml-workshops-E3uaVmXG-py3.11/lib/python3.11/site-packages/joblib/externals/loky/process_executor.py\", line 463, in _process_worker\n",
      "    r = call_item()\n",
      "        ^^^^^^^^^^^\n",
      "  File \"/home/jakub/.cache/pypoetry/virtualenvs/molecular-ml-workshops-E3uaVmXG-py3.11/lib/python3.11/site-packages/joblib/externals/loky/process_executor.py\", line 291, in __call__\n",
      "    return self.fn(*self.args, **self.kwargs)\n",
      "           ^^^^^^^^^^^^^^^^^^^^^^^^^^^^^^^^^^\n",
      "  File \"/home/jakub/.cache/pypoetry/virtualenvs/molecular-ml-workshops-E3uaVmXG-py3.11/lib/python3.11/site-packages/joblib/parallel.py\", line 598, in __call__\n",
      "    return [func(*args, **kwargs)\n",
      "           ^^^^^^^^^^^^^^^^^^^^^^\n",
      "  File \"/home/jakub/.cache/pypoetry/virtualenvs/molecular-ml-workshops-E3uaVmXG-py3.11/lib/python3.11/site-packages/joblib/parallel.py\", line 598, in <listcomp>\n",
      "    return [func(*args, **kwargs)\n",
      "            ^^^^^^^^^^^^^^^^^^^^^\n",
      "  File \"/home/jakub/.cache/pypoetry/virtualenvs/molecular-ml-workshops-E3uaVmXG-py3.11/lib/python3.11/site-packages/sklearn/utils/parallel.py\", line 136, in __call__\n",
      "    return self.function(*args, **kwargs)\n",
      "           ^^^^^^^^^^^^^^^^^^^^^^^^^^^^^^\n",
      "  File \"/home/jakub/.cache/pypoetry/virtualenvs/molecular-ml-workshops-E3uaVmXG-py3.11/lib/python3.11/site-packages/sklearn/model_selection/_validation.py\", line 888, in _fit_and_score\n",
      "    estimator.fit(X_train, y_train, **fit_params)\n",
      "  File \"/home/jakub/.cache/pypoetry/virtualenvs/molecular-ml-workshops-E3uaVmXG-py3.11/lib/python3.11/site-packages/sklearn/base.py\", line 1473, in wrapper\n",
      "    return fit_method(estimator, *args, **kwargs)\n",
      "           ^^^^^^^^^^^^^^^^^^^^^^^^^^^^^^^^^^^^^^\n",
      "  File \"/home/jakub/.cache/pypoetry/virtualenvs/molecular-ml-workshops-E3uaVmXG-py3.11/lib/python3.11/site-packages/sklearn/ensemble/_forest.py\", line 478, in fit\n",
      "    trees = [\n",
      "            ^\n",
      "  File \"/home/jakub/.cache/pypoetry/virtualenvs/molecular-ml-workshops-E3uaVmXG-py3.11/lib/python3.11/site-packages/sklearn/ensemble/_forest.py\", line 479, in <listcomp>\n",
      "    self._make_estimator(append=False, random_state=random_state)\n",
      "  File \"/home/jakub/.cache/pypoetry/virtualenvs/molecular-ml-workshops-E3uaVmXG-py3.11/lib/python3.11/site-packages/sklearn/ensemble/_base.py\", line 146, in _make_estimator\n",
      "    estimator.set_params(**{p: getattr(self, p) for p in self.estimator_params})\n",
      "  File \"/home/jakub/.cache/pypoetry/virtualenvs/molecular-ml-workshops-E3uaVmXG-py3.11/lib/python3.11/site-packages/sklearn/base.py\", line 272, in set_params\n",
      "    valid_params = self.get_params(deep=True)\n",
      "                   ^^^^^^^^^^^^^^^^^^^^^^^^^^\n",
      "  File \"/home/jakub/.cache/pypoetry/virtualenvs/molecular-ml-workshops-E3uaVmXG-py3.11/lib/python3.11/site-packages/sklearn/base.py\", line 243, in get_params\n",
      "    for key in self._get_param_names():\n",
      "               ^^^^^^^^^^^^^^^^^^^^^^^\n",
      "  File \"/home/jakub/.cache/pypoetry/virtualenvs/molecular-ml-workshops-E3uaVmXG-py3.11/lib/python3.11/site-packages/sklearn/base.py\", line 208, in _get_param_names\n",
      "    init_signature = inspect.signature(init)\n",
      "                     ^^^^^^^^^^^^^^^^^^^^^^^\n",
      "  File \"/usr/lib/python3.11/inspect.py\", line 3263, in signature\n",
      "    return Signature.from_callable(obj, follow_wrapped=follow_wrapped,\n",
      "           ^^^^^^^^^^^^^^^^^^^^^^^^^^^^^^^^^^^^^^^^^^^^^^^^^^^^^^^^^^^\n",
      "  File \"/usr/lib/python3.11/inspect.py\", line 3011, in from_callable\n",
      "    return _signature_from_callable(obj, sigcls=cls,\n",
      "           ^^^^^^^^^^^^^^^^^^^^^^^^^^^^^^^^^^^^^^^^^\n",
      "  File \"/usr/lib/python3.11/inspect.py\", line 2523, in _signature_from_callable\n",
      "    return _signature_from_function(sigcls, obj,\n",
      "           ^^^^^^^^^^^^^^^^^^^^^^^^^^^^^^^^^^^^^\n",
      "  File \"/usr/lib/python3.11/inspect.py\", line 2405, in _signature_from_function\n",
      "    parameters.append(Parameter(name, annotation=annotation,\n",
      "                      ^^^^^^^^^^^^^^^^^^^^^^^^^^^^^^^^^^^^^^\n",
      "  File \"/usr/lib/python3.11/inspect.py\", line 2706, in __init__\n",
      "    is_keyword = iskeyword(name) and self._kind is not _POSITIONAL_ONLY\n",
      "                 ^^^^^^^^^^^^^^^\n",
      "KeyboardInterrupt\n",
      "\n",
      "During handling of the above exception, another exception occurred:\n",
      "\n",
      "Traceback (most recent call last):\n",
      "  File \"/usr/lib/python3.11/multiprocessing/process.py\", line 314, in _bootstrap\n",
      "    self.run()\n",
      "  File \"/usr/lib/python3.11/multiprocessing/process.py\", line 108, in run\n",
      "    self._target(*self._args, **self._kwargs)\n",
      "  File \"/home/jakub/.cache/pypoetry/virtualenvs/molecular-ml-workshops-E3uaVmXG-py3.11/lib/python3.11/site-packages/joblib/externals/loky/process_executor.py\", line 466, in _process_worker\n",
      "    result_queue.put(_ResultItem(call_item.work_id, exception=exc))\n",
      "  File \"/home/jakub/.cache/pypoetry/virtualenvs/molecular-ml-workshops-E3uaVmXG-py3.11/lib/python3.11/site-packages/joblib/externals/loky/backend/queues.py\", line 235, in put\n",
      "    with self._wlock:\n",
      "  File \"/home/jakub/.cache/pypoetry/virtualenvs/molecular-ml-workshops-E3uaVmXG-py3.11/lib/python3.11/site-packages/joblib/externals/loky/backend/synchronize.py\", line 119, in __enter__\n",
      "    return self._semlock.acquire()\n",
      "           ^^^^^^^^^^^^^^^^^^^^^^^\n",
      "KeyboardInterrupt\n"
     ]
    },
    {
     "ename": "KeyboardInterrupt",
     "evalue": "",
     "output_type": "error",
     "traceback": [
      "\u001b[0;31m---------------------------------------------------------------------------\u001b[0m",
      "\u001b[0;31mKeyboardInterrupt\u001b[0m                         Traceback (most recent call last)",
      "File \u001b[0;32m~/.cache/pypoetry/virtualenvs/molecular-ml-workshops-E3uaVmXG-py3.11/lib/python3.11/site-packages/joblib/parallel.py:1650\u001b[0m, in \u001b[0;36mParallel._get_outputs\u001b[0;34m(self, iterator, pre_dispatch)\u001b[0m\n\u001b[1;32m   1649\u001b[0m     \u001b[38;5;28;01mwith\u001b[39;00m \u001b[38;5;28mself\u001b[39m\u001b[38;5;241m.\u001b[39m_backend\u001b[38;5;241m.\u001b[39mretrieval_context():\n\u001b[0;32m-> 1650\u001b[0m         \u001b[38;5;28;01myield from\u001b[39;00m \u001b[38;5;28mself\u001b[39m\u001b[38;5;241m.\u001b[39m_retrieve()\n\u001b[1;32m   1652\u001b[0m \u001b[38;5;28;01mexcept\u001b[39;00m \u001b[38;5;167;01mGeneratorExit\u001b[39;00m:\n\u001b[1;32m   1653\u001b[0m     \u001b[38;5;66;03m# The generator has been garbage collected before being fully\u001b[39;00m\n\u001b[1;32m   1654\u001b[0m     \u001b[38;5;66;03m# consumed. This aborts the remaining tasks if possible and warn\u001b[39;00m\n\u001b[1;32m   1655\u001b[0m     \u001b[38;5;66;03m# the user if necessary.\u001b[39;00m\n",
      "File \u001b[0;32m~/.cache/pypoetry/virtualenvs/molecular-ml-workshops-E3uaVmXG-py3.11/lib/python3.11/site-packages/joblib/parallel.py:1762\u001b[0m, in \u001b[0;36mParallel._retrieve\u001b[0;34m(self)\u001b[0m\n\u001b[1;32m   1759\u001b[0m \u001b[38;5;28;01mif\u001b[39;00m ((\u001b[38;5;28mlen\u001b[39m(\u001b[38;5;28mself\u001b[39m\u001b[38;5;241m.\u001b[39m_jobs) \u001b[38;5;241m==\u001b[39m \u001b[38;5;241m0\u001b[39m) \u001b[38;5;129;01mor\u001b[39;00m\n\u001b[1;32m   1760\u001b[0m     (\u001b[38;5;28mself\u001b[39m\u001b[38;5;241m.\u001b[39m_jobs[\u001b[38;5;241m0\u001b[39m]\u001b[38;5;241m.\u001b[39mget_status(\n\u001b[1;32m   1761\u001b[0m         timeout\u001b[38;5;241m=\u001b[39m\u001b[38;5;28mself\u001b[39m\u001b[38;5;241m.\u001b[39mtimeout) \u001b[38;5;241m==\u001b[39m TASK_PENDING)):\n\u001b[0;32m-> 1762\u001b[0m     time\u001b[38;5;241m.\u001b[39msleep(\u001b[38;5;241m0.01\u001b[39m)\n\u001b[1;32m   1763\u001b[0m     \u001b[38;5;28;01mcontinue\u001b[39;00m\n",
      "\u001b[0;31mKeyboardInterrupt\u001b[0m: ",
      "\nDuring handling of the above exception, another exception occurred:\n",
      "\u001b[0;31mKeyboardInterrupt\u001b[0m                         Traceback (most recent call last)",
      "File \u001b[0;32m~/.cache/pypoetry/virtualenvs/molecular-ml-workshops-E3uaVmXG-py3.11/lib/python3.11/site-packages/sklearn/model_selection/_search.py:1019\u001b[0m, in \u001b[0;36mBaseSearchCV.fit\u001b[0;34m(self, X, y, **params)\u001b[0m\n\u001b[1;32m   1017\u001b[0m     \u001b[38;5;28;01mreturn\u001b[39;00m results\n\u001b[0;32m-> 1019\u001b[0m \u001b[38;5;28;43mself\u001b[39;49m\u001b[38;5;241;43m.\u001b[39;49m\u001b[43m_run_search\u001b[49m\u001b[43m(\u001b[49m\u001b[43mevaluate_candidates\u001b[49m\u001b[43m)\u001b[49m\n\u001b[1;32m   1021\u001b[0m \u001b[38;5;66;03m# multimetric is determined here because in the case of a callable\u001b[39;00m\n\u001b[1;32m   1022\u001b[0m \u001b[38;5;66;03m# self.scoring the return type is only known after calling\u001b[39;00m\n",
      "File \u001b[0;32m~/.cache/pypoetry/virtualenvs/molecular-ml-workshops-E3uaVmXG-py3.11/lib/python3.11/site-packages/sklearn/model_selection/_search.py:1573\u001b[0m, in \u001b[0;36mGridSearchCV._run_search\u001b[0;34m(self, evaluate_candidates)\u001b[0m\n\u001b[1;32m   1572\u001b[0m \u001b[38;5;250m\u001b[39m\u001b[38;5;124;03m\"\"\"Search all candidates in param_grid\"\"\"\u001b[39;00m\n\u001b[0;32m-> 1573\u001b[0m \u001b[43mevaluate_candidates\u001b[49m\u001b[43m(\u001b[49m\u001b[43mParameterGrid\u001b[49m\u001b[43m(\u001b[49m\u001b[38;5;28;43mself\u001b[39;49m\u001b[38;5;241;43m.\u001b[39;49m\u001b[43mparam_grid\u001b[49m\u001b[43m)\u001b[49m\u001b[43m)\u001b[49m\n",
      "File \u001b[0;32m~/.cache/pypoetry/virtualenvs/molecular-ml-workshops-E3uaVmXG-py3.11/lib/python3.11/site-packages/sklearn/model_selection/_search.py:965\u001b[0m, in \u001b[0;36mBaseSearchCV.fit.<locals>.evaluate_candidates\u001b[0;34m(candidate_params, cv, more_results)\u001b[0m\n\u001b[1;32m    958\u001b[0m     \u001b[38;5;28mprint\u001b[39m(\n\u001b[1;32m    959\u001b[0m         \u001b[38;5;124m\"\u001b[39m\u001b[38;5;124mFitting \u001b[39m\u001b[38;5;132;01m{0}\u001b[39;00m\u001b[38;5;124m folds for each of \u001b[39m\u001b[38;5;132;01m{1}\u001b[39;00m\u001b[38;5;124m candidates,\u001b[39m\u001b[38;5;124m\"\u001b[39m\n\u001b[1;32m    960\u001b[0m         \u001b[38;5;124m\"\u001b[39m\u001b[38;5;124m totalling \u001b[39m\u001b[38;5;132;01m{2}\u001b[39;00m\u001b[38;5;124m fits\u001b[39m\u001b[38;5;124m\"\u001b[39m\u001b[38;5;241m.\u001b[39mformat(\n\u001b[1;32m    961\u001b[0m             n_splits, n_candidates, n_candidates \u001b[38;5;241m*\u001b[39m n_splits\n\u001b[1;32m    962\u001b[0m         )\n\u001b[1;32m    963\u001b[0m     )\n\u001b[0;32m--> 965\u001b[0m out \u001b[38;5;241m=\u001b[39m \u001b[43mparallel\u001b[49m\u001b[43m(\u001b[49m\n\u001b[1;32m    966\u001b[0m \u001b[43m    \u001b[49m\u001b[43mdelayed\u001b[49m\u001b[43m(\u001b[49m\u001b[43m_fit_and_score\u001b[49m\u001b[43m)\u001b[49m\u001b[43m(\u001b[49m\n\u001b[1;32m    967\u001b[0m \u001b[43m        \u001b[49m\u001b[43mclone\u001b[49m\u001b[43m(\u001b[49m\u001b[43mbase_estimator\u001b[49m\u001b[43m)\u001b[49m\u001b[43m,\u001b[49m\n\u001b[1;32m    968\u001b[0m \u001b[43m        \u001b[49m\u001b[43mX\u001b[49m\u001b[43m,\u001b[49m\n\u001b[1;32m    969\u001b[0m \u001b[43m        \u001b[49m\u001b[43my\u001b[49m\u001b[43m,\u001b[49m\n\u001b[1;32m    970\u001b[0m \u001b[43m        \u001b[49m\u001b[43mtrain\u001b[49m\u001b[38;5;241;43m=\u001b[39;49m\u001b[43mtrain\u001b[49m\u001b[43m,\u001b[49m\n\u001b[1;32m    971\u001b[0m \u001b[43m        \u001b[49m\u001b[43mtest\u001b[49m\u001b[38;5;241;43m=\u001b[39;49m\u001b[43mtest\u001b[49m\u001b[43m,\u001b[49m\n\u001b[1;32m    972\u001b[0m \u001b[43m        \u001b[49m\u001b[43mparameters\u001b[49m\u001b[38;5;241;43m=\u001b[39;49m\u001b[43mparameters\u001b[49m\u001b[43m,\u001b[49m\n\u001b[1;32m    973\u001b[0m \u001b[43m        \u001b[49m\u001b[43msplit_progress\u001b[49m\u001b[38;5;241;43m=\u001b[39;49m\u001b[43m(\u001b[49m\u001b[43msplit_idx\u001b[49m\u001b[43m,\u001b[49m\u001b[43m \u001b[49m\u001b[43mn_splits\u001b[49m\u001b[43m)\u001b[49m\u001b[43m,\u001b[49m\n\u001b[1;32m    974\u001b[0m \u001b[43m        \u001b[49m\u001b[43mcandidate_progress\u001b[49m\u001b[38;5;241;43m=\u001b[39;49m\u001b[43m(\u001b[49m\u001b[43mcand_idx\u001b[49m\u001b[43m,\u001b[49m\u001b[43m \u001b[49m\u001b[43mn_candidates\u001b[49m\u001b[43m)\u001b[49m\u001b[43m,\u001b[49m\n\u001b[1;32m    975\u001b[0m \u001b[43m        \u001b[49m\u001b[38;5;241;43m*\u001b[39;49m\u001b[38;5;241;43m*\u001b[39;49m\u001b[43mfit_and_score_kwargs\u001b[49m\u001b[43m,\u001b[49m\n\u001b[1;32m    976\u001b[0m \u001b[43m    \u001b[49m\u001b[43m)\u001b[49m\n\u001b[1;32m    977\u001b[0m \u001b[43m    \u001b[49m\u001b[38;5;28;43;01mfor\u001b[39;49;00m\u001b[43m \u001b[49m\u001b[43m(\u001b[49m\u001b[43mcand_idx\u001b[49m\u001b[43m,\u001b[49m\u001b[43m \u001b[49m\u001b[43mparameters\u001b[49m\u001b[43m)\u001b[49m\u001b[43m,\u001b[49m\u001b[43m \u001b[49m\u001b[43m(\u001b[49m\u001b[43msplit_idx\u001b[49m\u001b[43m,\u001b[49m\u001b[43m \u001b[49m\u001b[43m(\u001b[49m\u001b[43mtrain\u001b[49m\u001b[43m,\u001b[49m\u001b[43m \u001b[49m\u001b[43mtest\u001b[49m\u001b[43m)\u001b[49m\u001b[43m)\u001b[49m\u001b[43m \u001b[49m\u001b[38;5;129;43;01min\u001b[39;49;00m\u001b[43m \u001b[49m\u001b[43mproduct\u001b[49m\u001b[43m(\u001b[49m\n\u001b[1;32m    978\u001b[0m \u001b[43m        \u001b[49m\u001b[38;5;28;43menumerate\u001b[39;49m\u001b[43m(\u001b[49m\u001b[43mcandidate_params\u001b[49m\u001b[43m)\u001b[49m\u001b[43m,\u001b[49m\n\u001b[1;32m    979\u001b[0m \u001b[43m        \u001b[49m\u001b[38;5;28;43menumerate\u001b[39;49m\u001b[43m(\u001b[49m\u001b[43mcv\u001b[49m\u001b[38;5;241;43m.\u001b[39;49m\u001b[43msplit\u001b[49m\u001b[43m(\u001b[49m\u001b[43mX\u001b[49m\u001b[43m,\u001b[49m\u001b[43m \u001b[49m\u001b[43my\u001b[49m\u001b[43m,\u001b[49m\u001b[43m \u001b[49m\u001b[38;5;241;43m*\u001b[39;49m\u001b[38;5;241;43m*\u001b[39;49m\u001b[43mrouted_params\u001b[49m\u001b[38;5;241;43m.\u001b[39;49m\u001b[43msplitter\u001b[49m\u001b[38;5;241;43m.\u001b[39;49m\u001b[43msplit\u001b[49m\u001b[43m)\u001b[49m\u001b[43m)\u001b[49m\u001b[43m,\u001b[49m\n\u001b[1;32m    980\u001b[0m \u001b[43m    \u001b[49m\u001b[43m)\u001b[49m\n\u001b[1;32m    981\u001b[0m \u001b[43m\u001b[49m\u001b[43m)\u001b[49m\n\u001b[1;32m    983\u001b[0m \u001b[38;5;28;01mif\u001b[39;00m \u001b[38;5;28mlen\u001b[39m(out) \u001b[38;5;241m<\u001b[39m \u001b[38;5;241m1\u001b[39m:\n",
      "File \u001b[0;32m~/.cache/pypoetry/virtualenvs/molecular-ml-workshops-E3uaVmXG-py3.11/lib/python3.11/site-packages/sklearn/utils/parallel.py:74\u001b[0m, in \u001b[0;36mParallel.__call__\u001b[0;34m(self, iterable)\u001b[0m\n\u001b[1;32m     70\u001b[0m iterable_with_config \u001b[38;5;241m=\u001b[39m (\n\u001b[1;32m     71\u001b[0m     (_with_config(delayed_func, config), args, kwargs)\n\u001b[1;32m     72\u001b[0m     \u001b[38;5;28;01mfor\u001b[39;00m delayed_func, args, kwargs \u001b[38;5;129;01min\u001b[39;00m iterable\n\u001b[1;32m     73\u001b[0m )\n\u001b[0;32m---> 74\u001b[0m \u001b[38;5;28;01mreturn\u001b[39;00m \u001b[38;5;28;43msuper\u001b[39;49m\u001b[43m(\u001b[49m\u001b[43m)\u001b[49m\u001b[38;5;241;43m.\u001b[39;49m\u001b[38;5;21;43m__call__\u001b[39;49m\u001b[43m(\u001b[49m\u001b[43miterable_with_config\u001b[49m\u001b[43m)\u001b[49m\n",
      "File \u001b[0;32m~/.cache/pypoetry/virtualenvs/molecular-ml-workshops-E3uaVmXG-py3.11/lib/python3.11/site-packages/joblib/parallel.py:2007\u001b[0m, in \u001b[0;36mParallel.__call__\u001b[0;34m(self, iterable)\u001b[0m\n\u001b[1;32m   2005\u001b[0m \u001b[38;5;28mnext\u001b[39m(output)\n\u001b[0;32m-> 2007\u001b[0m \u001b[38;5;28;01mreturn\u001b[39;00m output \u001b[38;5;28;01mif\u001b[39;00m \u001b[38;5;28mself\u001b[39m\u001b[38;5;241m.\u001b[39mreturn_generator \u001b[38;5;28;01melse\u001b[39;00m \u001b[38;5;28;43mlist\u001b[39;49m\u001b[43m(\u001b[49m\u001b[43moutput\u001b[49m\u001b[43m)\u001b[49m\n",
      "File \u001b[0;32m~/.cache/pypoetry/virtualenvs/molecular-ml-workshops-E3uaVmXG-py3.11/lib/python3.11/site-packages/joblib/parallel.py:1703\u001b[0m, in \u001b[0;36mParallel._get_outputs\u001b[0;34m(self, iterator, pre_dispatch)\u001b[0m\n\u001b[1;32m   1702\u001b[0m \u001b[38;5;28mself\u001b[39m\u001b[38;5;241m.\u001b[39m_exception \u001b[38;5;241m=\u001b[39m \u001b[38;5;28;01mTrue\u001b[39;00m\n\u001b[0;32m-> 1703\u001b[0m \u001b[38;5;28;43mself\u001b[39;49m\u001b[38;5;241;43m.\u001b[39;49m\u001b[43m_abort\u001b[49m\u001b[43m(\u001b[49m\u001b[43m)\u001b[49m\n\u001b[1;32m   1704\u001b[0m \u001b[38;5;28;01mraise\u001b[39;00m\n",
      "File \u001b[0;32m~/.cache/pypoetry/virtualenvs/molecular-ml-workshops-E3uaVmXG-py3.11/lib/python3.11/site-packages/joblib/parallel.py:1614\u001b[0m, in \u001b[0;36mParallel._abort\u001b[0;34m(self)\u001b[0m\n\u001b[1;32m   1613\u001b[0m     ensure_ready \u001b[38;5;241m=\u001b[39m \u001b[38;5;28mself\u001b[39m\u001b[38;5;241m.\u001b[39m_managed_backend\n\u001b[0;32m-> 1614\u001b[0m     \u001b[43mbackend\u001b[49m\u001b[38;5;241;43m.\u001b[39;49m\u001b[43mabort_everything\u001b[49m\u001b[43m(\u001b[49m\u001b[43mensure_ready\u001b[49m\u001b[38;5;241;43m=\u001b[39;49m\u001b[43mensure_ready\u001b[49m\u001b[43m)\u001b[49m\n\u001b[1;32m   1615\u001b[0m \u001b[38;5;28mself\u001b[39m\u001b[38;5;241m.\u001b[39m_aborted \u001b[38;5;241m=\u001b[39m \u001b[38;5;28;01mTrue\u001b[39;00m\n",
      "File \u001b[0;32m~/.cache/pypoetry/virtualenvs/molecular-ml-workshops-E3uaVmXG-py3.11/lib/python3.11/site-packages/joblib/_parallel_backends.py:620\u001b[0m, in \u001b[0;36mLokyBackend.abort_everything\u001b[0;34m(self, ensure_ready)\u001b[0m\n\u001b[1;32m    618\u001b[0m \u001b[38;5;250m\u001b[39m\u001b[38;5;124;03m\"\"\"Shutdown the workers and restart a new one with the same parameters\u001b[39;00m\n\u001b[1;32m    619\u001b[0m \u001b[38;5;124;03m\"\"\"\u001b[39;00m\n\u001b[0;32m--> 620\u001b[0m \u001b[38;5;28;43mself\u001b[39;49m\u001b[38;5;241;43m.\u001b[39;49m\u001b[43m_workers\u001b[49m\u001b[38;5;241;43m.\u001b[39;49m\u001b[43mterminate\u001b[49m\u001b[43m(\u001b[49m\u001b[43mkill_workers\u001b[49m\u001b[38;5;241;43m=\u001b[39;49m\u001b[38;5;28;43;01mTrue\u001b[39;49;00m\u001b[43m)\u001b[49m\n\u001b[1;32m    621\u001b[0m \u001b[38;5;28mself\u001b[39m\u001b[38;5;241m.\u001b[39m_workers \u001b[38;5;241m=\u001b[39m \u001b[38;5;28;01mNone\u001b[39;00m\n",
      "File \u001b[0;32m~/.cache/pypoetry/virtualenvs/molecular-ml-workshops-E3uaVmXG-py3.11/lib/python3.11/site-packages/joblib/executor.py:75\u001b[0m, in \u001b[0;36mMemmappingExecutor.terminate\u001b[0;34m(self, kill_workers)\u001b[0m\n\u001b[1;32m     73\u001b[0m \u001b[38;5;28;01mdef\u001b[39;00m \u001b[38;5;21mterminate\u001b[39m(\u001b[38;5;28mself\u001b[39m, kill_workers\u001b[38;5;241m=\u001b[39m\u001b[38;5;28;01mFalse\u001b[39;00m):\n\u001b[0;32m---> 75\u001b[0m     \u001b[38;5;28;43mself\u001b[39;49m\u001b[38;5;241;43m.\u001b[39;49m\u001b[43mshutdown\u001b[49m\u001b[43m(\u001b[49m\u001b[43mkill_workers\u001b[49m\u001b[38;5;241;43m=\u001b[39;49m\u001b[43mkill_workers\u001b[49m\u001b[43m)\u001b[49m\n\u001b[1;32m     77\u001b[0m     \u001b[38;5;66;03m# When workers are killed in a brutal manner, they cannot execute the\u001b[39;00m\n\u001b[1;32m     78\u001b[0m     \u001b[38;5;66;03m# finalizer of their shared memmaps. The refcount of those memmaps may\u001b[39;00m\n\u001b[1;32m     79\u001b[0m     \u001b[38;5;66;03m# be off by an unknown number, so instead of decref'ing them, we force\u001b[39;00m\n\u001b[0;32m   (...)\u001b[0m\n\u001b[1;32m     84\u001b[0m     \u001b[38;5;66;03m# with allow_non_empty=True but if we can't, it will be clean up later\u001b[39;00m\n\u001b[1;32m     85\u001b[0m     \u001b[38;5;66;03m# on by the resource_tracker.\u001b[39;00m\n",
      "File \u001b[0;32m~/.cache/pypoetry/virtualenvs/molecular-ml-workshops-E3uaVmXG-py3.11/lib/python3.11/site-packages/joblib/externals/loky/process_executor.py:1303\u001b[0m, in \u001b[0;36mProcessPoolExecutor.shutdown\u001b[0;34m(self, wait, kill_workers)\u001b[0m\n\u001b[1;32m   1302\u001b[0m \u001b[38;5;28;01mwith\u001b[39;00m _global_shutdown_lock:\n\u001b[0;32m-> 1303\u001b[0m     \u001b[43mexecutor_manager_thread\u001b[49m\u001b[38;5;241;43m.\u001b[39;49m\u001b[43mjoin\u001b[49m\u001b[43m(\u001b[49m\u001b[43m)\u001b[49m\n\u001b[1;32m   1304\u001b[0m     _threads_wakeups\u001b[38;5;241m.\u001b[39mpop(executor_manager_thread, \u001b[38;5;28;01mNone\u001b[39;00m)\n",
      "File \u001b[0;32m/usr/lib/python3.11/threading.py:1119\u001b[0m, in \u001b[0;36mThread.join\u001b[0;34m(self, timeout)\u001b[0m\n\u001b[1;32m   1118\u001b[0m \u001b[38;5;28;01mif\u001b[39;00m timeout \u001b[38;5;129;01mis\u001b[39;00m \u001b[38;5;28;01mNone\u001b[39;00m:\n\u001b[0;32m-> 1119\u001b[0m     \u001b[38;5;28;43mself\u001b[39;49m\u001b[38;5;241;43m.\u001b[39;49m\u001b[43m_wait_for_tstate_lock\u001b[49m\u001b[43m(\u001b[49m\u001b[43m)\u001b[49m\n\u001b[1;32m   1120\u001b[0m \u001b[38;5;28;01melse\u001b[39;00m:\n\u001b[1;32m   1121\u001b[0m     \u001b[38;5;66;03m# the behavior of a negative timeout isn't documented, but\u001b[39;00m\n\u001b[1;32m   1122\u001b[0m     \u001b[38;5;66;03m# historically .join(timeout=x) for x<0 has acted as if timeout=0\u001b[39;00m\n",
      "File \u001b[0;32m/usr/lib/python3.11/threading.py:1139\u001b[0m, in \u001b[0;36mThread._wait_for_tstate_lock\u001b[0;34m(self, block, timeout)\u001b[0m\n\u001b[1;32m   1138\u001b[0m \u001b[38;5;28;01mtry\u001b[39;00m:\n\u001b[0;32m-> 1139\u001b[0m     \u001b[38;5;28;01mif\u001b[39;00m \u001b[43mlock\u001b[49m\u001b[38;5;241;43m.\u001b[39;49m\u001b[43macquire\u001b[49m\u001b[43m(\u001b[49m\u001b[43mblock\u001b[49m\u001b[43m,\u001b[49m\u001b[43m \u001b[49m\u001b[43mtimeout\u001b[49m\u001b[43m)\u001b[49m:\n\u001b[1;32m   1140\u001b[0m         lock\u001b[38;5;241m.\u001b[39mrelease()\n",
      "\u001b[0;31mKeyboardInterrupt\u001b[0m: ",
      "\nDuring handling of the above exception, another exception occurred:\n",
      "\u001b[0;31mKeyboardInterrupt\u001b[0m                         Traceback (most recent call last)",
      "Cell \u001b[0;32mIn[14], line 4\u001b[0m\n\u001b[1;32m      1\u001b[0m \u001b[38;5;28;01mfrom\u001b[39;00m \u001b[38;5;21;01mtime\u001b[39;00m \u001b[38;5;28;01mimport\u001b[39;00m time\n\u001b[1;32m      3\u001b[0m start \u001b[38;5;241m=\u001b[39m time()\n\u001b[0;32m----> 4\u001b[0m \u001b[43mfp_estimator_cv\u001b[49m\u001b[38;5;241;43m.\u001b[39;49m\u001b[43mfit\u001b[49m\u001b[43m(\u001b[49m\u001b[43mmols_train\u001b[49m\u001b[43m,\u001b[49m\u001b[43m \u001b[49m\u001b[43my_train\u001b[49m\u001b[43m)\u001b[49m\n\u001b[1;32m      5\u001b[0m end \u001b[38;5;241m=\u001b[39m time()\n\u001b[1;32m      6\u001b[0m \u001b[38;5;28mprint\u001b[39m(\u001b[38;5;124mf\u001b[39m\u001b[38;5;124m\"\u001b[39m\u001b[38;5;124mscikit-learn tuning time : \u001b[39m\u001b[38;5;132;01m{\u001b[39;00mend\u001b[38;5;250m \u001b[39m\u001b[38;5;241m-\u001b[39m\u001b[38;5;250m \u001b[39mstart\u001b[38;5;132;01m:\u001b[39;00m\u001b[38;5;124m.2f\u001b[39m\u001b[38;5;132;01m}\u001b[39;00m\u001b[38;5;124ms\u001b[39m\u001b[38;5;124m\"\u001b[39m)\n",
      "File \u001b[0;32m~/.cache/pypoetry/virtualenvs/molecular-ml-workshops-E3uaVmXG-py3.11/lib/python3.11/site-packages/sklearn/base.py:1473\u001b[0m, in \u001b[0;36m_fit_context.<locals>.decorator.<locals>.wrapper\u001b[0;34m(estimator, *args, **kwargs)\u001b[0m\n\u001b[1;32m   1466\u001b[0m     estimator\u001b[38;5;241m.\u001b[39m_validate_params()\n\u001b[1;32m   1468\u001b[0m \u001b[38;5;28;01mwith\u001b[39;00m config_context(\n\u001b[1;32m   1469\u001b[0m     skip_parameter_validation\u001b[38;5;241m=\u001b[39m(\n\u001b[1;32m   1470\u001b[0m         prefer_skip_nested_validation \u001b[38;5;129;01mor\u001b[39;00m global_skip_validation\n\u001b[1;32m   1471\u001b[0m     )\n\u001b[1;32m   1472\u001b[0m ):\n\u001b[0;32m-> 1473\u001b[0m     \u001b[38;5;28;01mreturn\u001b[39;00m \u001b[43mfit_method\u001b[49m\u001b[43m(\u001b[49m\u001b[43mestimator\u001b[49m\u001b[43m,\u001b[49m\u001b[43m \u001b[49m\u001b[38;5;241;43m*\u001b[39;49m\u001b[43margs\u001b[49m\u001b[43m,\u001b[49m\u001b[43m \u001b[49m\u001b[38;5;241;43m*\u001b[39;49m\u001b[38;5;241;43m*\u001b[39;49m\u001b[43mkwargs\u001b[49m\u001b[43m)\u001b[49m\n",
      "File \u001b[0;32m~/.cache/pypoetry/virtualenvs/molecular-ml-workshops-E3uaVmXG-py3.11/lib/python3.11/site-packages/skfp/model_selection/hyperparam_search/grid_search.py:191\u001b[0m, in \u001b[0;36mFingerprintEstimatorGridSearch.fit\u001b[0;34m(self, X, y, **params)\u001b[0m\n\u001b[1;32m    188\u001b[0m X_fp \u001b[38;5;241m=\u001b[39m fp\u001b[38;5;241m.\u001b[39mfit_transform(X, y, \u001b[38;5;241m*\u001b[39m\u001b[38;5;241m*\u001b[39mparams)\n\u001b[1;32m    190\u001b[0m curr_cv \u001b[38;5;241m=\u001b[39m clone(\u001b[38;5;28mself\u001b[39m\u001b[38;5;241m.\u001b[39mestimator_cv)\n\u001b[0;32m--> 191\u001b[0m \u001b[43mcurr_cv\u001b[49m\u001b[38;5;241;43m.\u001b[39;49m\u001b[43mfit\u001b[49m\u001b[43m(\u001b[49m\u001b[43mX_fp\u001b[49m\u001b[43m,\u001b[49m\u001b[43m \u001b[49m\u001b[43my\u001b[49m\u001b[43m,\u001b[49m\u001b[43m \u001b[49m\u001b[38;5;241;43m*\u001b[39;49m\u001b[38;5;241;43m*\u001b[39;49m\u001b[43mparams\u001b[49m\u001b[43m)\u001b[49m\n\u001b[1;32m    192\u001b[0m curr_score \u001b[38;5;241m=\u001b[39m curr_cv\u001b[38;5;241m.\u001b[39mbest_score_\n\u001b[1;32m    193\u001b[0m estimator_params \u001b[38;5;241m=\u001b[39m curr_cv\u001b[38;5;241m.\u001b[39mbest_params_\n",
      "File \u001b[0;32m~/.cache/pypoetry/virtualenvs/molecular-ml-workshops-E3uaVmXG-py3.11/lib/python3.11/site-packages/sklearn/base.py:1473\u001b[0m, in \u001b[0;36m_fit_context.<locals>.decorator.<locals>.wrapper\u001b[0;34m(estimator, *args, **kwargs)\u001b[0m\n\u001b[1;32m   1466\u001b[0m     estimator\u001b[38;5;241m.\u001b[39m_validate_params()\n\u001b[1;32m   1468\u001b[0m \u001b[38;5;28;01mwith\u001b[39;00m config_context(\n\u001b[1;32m   1469\u001b[0m     skip_parameter_validation\u001b[38;5;241m=\u001b[39m(\n\u001b[1;32m   1470\u001b[0m         prefer_skip_nested_validation \u001b[38;5;129;01mor\u001b[39;00m global_skip_validation\n\u001b[1;32m   1471\u001b[0m     )\n\u001b[1;32m   1472\u001b[0m ):\n\u001b[0;32m-> 1473\u001b[0m     \u001b[38;5;28;01mreturn\u001b[39;00m \u001b[43mfit_method\u001b[49m\u001b[43m(\u001b[49m\u001b[43mestimator\u001b[49m\u001b[43m,\u001b[49m\u001b[43m \u001b[49m\u001b[38;5;241;43m*\u001b[39;49m\u001b[43margs\u001b[49m\u001b[43m,\u001b[49m\u001b[43m \u001b[49m\u001b[38;5;241;43m*\u001b[39;49m\u001b[38;5;241;43m*\u001b[39;49m\u001b[43mkwargs\u001b[49m\u001b[43m)\u001b[49m\n",
      "File \u001b[0;32m~/.cache/pypoetry/virtualenvs/molecular-ml-workshops-E3uaVmXG-py3.11/lib/python3.11/site-packages/sklearn/model_selection/_search.py:947\u001b[0m, in \u001b[0;36mBaseSearchCV.fit\u001b[0;34m(self, X, y, **params)\u001b[0m\n\u001b[1;32m    935\u001b[0m fit_and_score_kwargs \u001b[38;5;241m=\u001b[39m \u001b[38;5;28mdict\u001b[39m(\n\u001b[1;32m    936\u001b[0m     scorer\u001b[38;5;241m=\u001b[39mscorers,\n\u001b[1;32m    937\u001b[0m     fit_params\u001b[38;5;241m=\u001b[39mrouted_params\u001b[38;5;241m.\u001b[39mestimator\u001b[38;5;241m.\u001b[39mfit,\n\u001b[0;32m   (...)\u001b[0m\n\u001b[1;32m    944\u001b[0m     verbose\u001b[38;5;241m=\u001b[39m\u001b[38;5;28mself\u001b[39m\u001b[38;5;241m.\u001b[39mverbose,\n\u001b[1;32m    945\u001b[0m )\n\u001b[1;32m    946\u001b[0m results \u001b[38;5;241m=\u001b[39m {}\n\u001b[0;32m--> 947\u001b[0m \u001b[43m\u001b[49m\u001b[38;5;28;43;01mwith\u001b[39;49;00m\u001b[43m \u001b[49m\u001b[43mparallel\u001b[49m\u001b[43m:\u001b[49m\n\u001b[1;32m    948\u001b[0m \u001b[43m    \u001b[49m\u001b[43mall_candidate_params\u001b[49m\u001b[43m \u001b[49m\u001b[38;5;241;43m=\u001b[39;49m\u001b[43m \u001b[49m\u001b[43m[\u001b[49m\u001b[43m]\u001b[49m\n\u001b[1;32m    949\u001b[0m \u001b[43m    \u001b[49m\u001b[43mall_out\u001b[49m\u001b[43m \u001b[49m\u001b[38;5;241;43m=\u001b[39;49m\u001b[43m \u001b[49m\u001b[43m[\u001b[49m\u001b[43m]\u001b[49m\n",
      "File \u001b[0;32m~/.cache/pypoetry/virtualenvs/molecular-ml-workshops-E3uaVmXG-py3.11/lib/python3.11/site-packages/joblib/parallel.py:1354\u001b[0m, in \u001b[0;36mParallel.__exit__\u001b[0;34m(self, exc_type, exc_value, traceback)\u001b[0m\n\u001b[1;32m   1352\u001b[0m \u001b[38;5;28;01mif\u001b[39;00m \u001b[38;5;28mself\u001b[39m\u001b[38;5;241m.\u001b[39mreturn_generator \u001b[38;5;129;01mand\u001b[39;00m \u001b[38;5;28mself\u001b[39m\u001b[38;5;241m.\u001b[39m_calling:\n\u001b[1;32m   1353\u001b[0m     \u001b[38;5;28mself\u001b[39m\u001b[38;5;241m.\u001b[39m_abort()\n\u001b[0;32m-> 1354\u001b[0m \u001b[38;5;28;43mself\u001b[39;49m\u001b[38;5;241;43m.\u001b[39;49m\u001b[43m_terminate_and_reset\u001b[49m\u001b[43m(\u001b[49m\u001b[43m)\u001b[49m\n",
      "File \u001b[0;32m~/.cache/pypoetry/virtualenvs/molecular-ml-workshops-E3uaVmXG-py3.11/lib/python3.11/site-packages/joblib/parallel.py:1386\u001b[0m, in \u001b[0;36mParallel._terminate_and_reset\u001b[0;34m(self)\u001b[0m\n\u001b[1;32m   1384\u001b[0m \u001b[38;5;28mself\u001b[39m\u001b[38;5;241m.\u001b[39m_calling \u001b[38;5;241m=\u001b[39m \u001b[38;5;28;01mFalse\u001b[39;00m\n\u001b[1;32m   1385\u001b[0m \u001b[38;5;28;01mif\u001b[39;00m \u001b[38;5;129;01mnot\u001b[39;00m \u001b[38;5;28mself\u001b[39m\u001b[38;5;241m.\u001b[39m_managed_backend:\n\u001b[0;32m-> 1386\u001b[0m     \u001b[38;5;28;43mself\u001b[39;49m\u001b[38;5;241;43m.\u001b[39;49m\u001b[43m_backend\u001b[49m\u001b[38;5;241;43m.\u001b[39;49m\u001b[43mterminate\u001b[49m\u001b[43m(\u001b[49m\u001b[43m)\u001b[49m\n",
      "File \u001b[0;32m~/.cache/pypoetry/virtualenvs/molecular-ml-workshops-E3uaVmXG-py3.11/lib/python3.11/site-packages/joblib/_parallel_backends.py:610\u001b[0m, in \u001b[0;36mLokyBackend.terminate\u001b[0;34m(self)\u001b[0m\n\u001b[1;32m    605\u001b[0m \u001b[38;5;28;01mdef\u001b[39;00m \u001b[38;5;21mterminate\u001b[39m(\u001b[38;5;28mself\u001b[39m):\n\u001b[1;32m    606\u001b[0m     \u001b[38;5;28;01mif\u001b[39;00m \u001b[38;5;28mself\u001b[39m\u001b[38;5;241m.\u001b[39m_workers \u001b[38;5;129;01mis\u001b[39;00m \u001b[38;5;129;01mnot\u001b[39;00m \u001b[38;5;28;01mNone\u001b[39;00m:\n\u001b[1;32m    607\u001b[0m         \u001b[38;5;66;03m# Don't terminate the workers as we want to reuse them in later\u001b[39;00m\n\u001b[1;32m    608\u001b[0m         \u001b[38;5;66;03m# calls, but cleanup the temporary resources that the Parallel call\u001b[39;00m\n\u001b[1;32m    609\u001b[0m         \u001b[38;5;66;03m# created. This 'hack' requires a private, low-level operation.\u001b[39;00m\n\u001b[0;32m--> 610\u001b[0m         \u001b[38;5;28;43mself\u001b[39;49m\u001b[38;5;241;43m.\u001b[39;49m\u001b[43m_workers\u001b[49m\u001b[38;5;241;43m.\u001b[39;49m\u001b[43m_temp_folder_manager\u001b[49m\u001b[38;5;241;43m.\u001b[39;49m\u001b[43m_clean_temporary_resources\u001b[49m\u001b[43m(\u001b[49m\n\u001b[1;32m    611\u001b[0m \u001b[43m            \u001b[49m\u001b[43mcontext_id\u001b[49m\u001b[38;5;241;43m=\u001b[39;49m\u001b[38;5;28;43mself\u001b[39;49m\u001b[38;5;241;43m.\u001b[39;49m\u001b[43mparallel\u001b[49m\u001b[38;5;241;43m.\u001b[39;49m\u001b[43m_id\u001b[49m\u001b[43m,\u001b[49m\u001b[43m \u001b[49m\u001b[43mforce\u001b[49m\u001b[38;5;241;43m=\u001b[39;49m\u001b[38;5;28;43;01mFalse\u001b[39;49;00m\n\u001b[1;32m    612\u001b[0m \u001b[43m        \u001b[49m\u001b[43m)\u001b[49m\n\u001b[1;32m    613\u001b[0m         \u001b[38;5;28mself\u001b[39m\u001b[38;5;241m.\u001b[39m_workers \u001b[38;5;241m=\u001b[39m \u001b[38;5;28;01mNone\u001b[39;00m\n\u001b[1;32m    615\u001b[0m     \u001b[38;5;28mself\u001b[39m\u001b[38;5;241m.\u001b[39mreset_batch_stats()\n",
      "File \u001b[0;32m~/.cache/pypoetry/virtualenvs/molecular-ml-workshops-E3uaVmXG-py3.11/lib/python3.11/site-packages/joblib/_memmapping_reducer.py:641\u001b[0m, in \u001b[0;36mTemporaryResourcesManager._clean_temporary_resources\u001b[0;34m(self, context_id, force, allow_non_empty)\u001b[0m\n\u001b[1;32m    638\u001b[0m \u001b[38;5;66;03m# Clean up the folder if possible, either if it is empty or\u001b[39;00m\n\u001b[1;32m    639\u001b[0m \u001b[38;5;66;03m# if none of the files in it are in used and allow_non_empty.\u001b[39;00m\n\u001b[1;32m    640\u001b[0m \u001b[38;5;28;01mtry\u001b[39;00m:\n\u001b[0;32m--> 641\u001b[0m     \u001b[43mdelete_folder\u001b[49m\u001b[43m(\u001b[49m\n\u001b[1;32m    642\u001b[0m \u001b[43m        \u001b[49m\u001b[43mtemp_folder\u001b[49m\u001b[43m,\u001b[49m\u001b[43m \u001b[49m\u001b[43mallow_non_empty\u001b[49m\u001b[38;5;241;43m=\u001b[39;49m\u001b[43mallow_non_empty\u001b[49m\n\u001b[1;32m    643\u001b[0m \u001b[43m    \u001b[49m\u001b[43m)\u001b[49m\n\u001b[1;32m    644\u001b[0m     \u001b[38;5;66;03m# Forget the folder once it has been deleted\u001b[39;00m\n\u001b[1;32m    645\u001b[0m     \u001b[38;5;28mself\u001b[39m\u001b[38;5;241m.\u001b[39m_cached_temp_folders\u001b[38;5;241m.\u001b[39mpop(context_id, \u001b[38;5;28;01mNone\u001b[39;00m)\n",
      "File \u001b[0;32m~/.cache/pypoetry/virtualenvs/molecular-ml-workshops-E3uaVmXG-py3.11/lib/python3.11/site-packages/joblib/disk.py:136\u001b[0m, in \u001b[0;36mdelete_folder\u001b[0;34m(folder_path, onerror, allow_non_empty)\u001b[0m\n\u001b[1;32m    131\u001b[0m     \u001b[38;5;28;01mif\u001b[39;00m err_count \u001b[38;5;241m>\u001b[39m RM_SUBDIRS_N_RETRY:\n\u001b[1;32m    132\u001b[0m         \u001b[38;5;66;03m# the folder cannot be deleted right now. It maybe\u001b[39;00m\n\u001b[1;32m    133\u001b[0m         \u001b[38;5;66;03m# because some temporary files have not been deleted\u001b[39;00m\n\u001b[1;32m    134\u001b[0m         \u001b[38;5;66;03m# yet.\u001b[39;00m\n\u001b[1;32m    135\u001b[0m         \u001b[38;5;28;01mraise\u001b[39;00m\n\u001b[0;32m--> 136\u001b[0m \u001b[43mtime\u001b[49m\u001b[38;5;241;43m.\u001b[39;49m\u001b[43msleep\u001b[49m\u001b[43m(\u001b[49m\u001b[43mRM_SUBDIRS_RETRY_TIME\u001b[49m\u001b[43m)\u001b[49m\n",
      "\u001b[0;31mKeyboardInterrupt\u001b[0m: "
     ]
    }
   ],
   "source": [
    "from time import time\n",
    "\n",
    "start = time()\n",
    "fp_estimator_cv.fit(mols_train, y_train)\n",
    "end = time()\n",
    "print(f\"scikit-learn tuning time : {end - start:.2f}s\")"
   ]
  },
  {
   "cell_type": "code",
   "execution_count": null,
   "id": "ac19630a-29b8-41d6-a92a-4e021191a783",
   "metadata": {
    "execution": {
     "iopub.status.busy": "2024-11-09T21:07:06.990821Z",
     "iopub.status.idle": "2024-11-09T21:07:06.990999Z",
     "shell.execute_reply": "2024-11-09T21:07:06.990920Z",
     "shell.execute_reply.started": "2024-11-09T21:07:06.990912Z"
    }
   },
   "outputs": [],
   "source": [
    "print(\"Best fingerprint hyperparameters:\", fp_estimator_cv.best_fp_params_)"
   ]
  },
  {
   "cell_type": "code",
   "execution_count": null,
   "id": "a7afd708-dc0e-4a08-ac70-5480e0d89f48",
   "metadata": {
    "execution": {
     "iopub.status.busy": "2024-11-09T21:07:06.991557Z",
     "iopub.status.idle": "2024-11-09T21:07:06.991724Z",
     "shell.execute_reply": "2024-11-09T21:07:06.991647Z",
     "shell.execute_reply.started": "2024-11-09T21:07:06.991639Z"
    }
   },
   "outputs": [],
   "source": [
    "print(\"Best model hyperparameters:\", fp_estimator_cv.best_estimator_cv_.best_params_)"
   ]
  },
  {
   "cell_type": "code",
   "execution_count": null,
   "id": "4d3c3a1fe4670abf",
   "metadata": {
    "collapsed": false,
    "execution": {
     "iopub.status.busy": "2024-11-09T21:07:06.992426Z",
     "iopub.status.idle": "2024-11-09T21:07:06.992686Z",
     "shell.execute_reply": "2024-11-09T21:07:06.992563Z",
     "shell.execute_reply.started": "2024-11-09T21:07:06.992551Z"
    },
    "jupyter": {
     "outputs_hidden": false
    },
    "scrolled": true
   },
   "outputs": [],
   "source": [
    "y_pred = fp_estimator_cv.predict_proba(X_test)[:, 1]\n",
    "\n",
    "print(f\"ECFP AUROC : {multioutput_auroc_score(y_test, y_pred):.2%}\")"
   ]
  },
  {
   "cell_type": "markdown",
   "id": "34ccd5e0387844c0",
   "metadata": {
    "collapsed": false,
    "jupyter": {
     "outputs_hidden": false
    }
   },
   "source": [
    "## 5. Multioutput prediction"
   ]
  },
  {
   "cell_type": "markdown",
   "id": "7e09d2b3-1080-443c-93d8-55ccdd901a05",
   "metadata": {},
   "source": [
    "Some molecular datasets focus on multiple tasks at a time. This often results in better classifiers, due to more general knowledge and built-in regularization. Random Forest from scikit-learn, combined with molecular fingerprints, is a natural solution for such problems.\n",
    "\n",
    "One of such multi-output datasets is SIDER dataset. Tasks are related to adverse drug reactions (ADRs), or drug side effects, to 27 system organ classes of MedDRA classification.\n",
    "\n",
    "For details, see [\"Low Data Drug Discovery with One-Shot Learning\" H. Altae-Tran et al.](https://pubs.acs.org/doi/10.1021/acscentsci.6b00367)."
   ]
  },
  {
   "cell_type": "markdown",
   "id": "6a479eff06101b1b",
   "metadata": {
    "collapsed": false,
    "jupyter": {
     "outputs_hidden": false
    }
   },
   "source": [
    "### Exercise 3\n",
    "\n",
    "Perform model training with molecular fingerprints on SIDER dataset.\n",
    "\n",
    "This consists of steps:\n",
    "1. Load data\n",
    "2. Parse as RDKit molecules\n",
    "3. Scaffold split\n",
    "4. Computing fingerprints\n",
    "5. Training Random Forest\n",
    "6. Evaluation\n",
    "\n",
    "Code templates have been prepared for you below. Note that they sometimes assume variable names. `extract_pos_proba` function will be useful. Use the previous notebook code and [scikit-fingerprints docs](https://scikit-fingerprints.github.io/scikit-fingerprints/) as necessary."
   ]
  },
  {
   "cell_type": "code",
   "execution_count": null,
   "id": "7d56b694ce00a126",
   "metadata": {
    "collapsed": false,
    "execution": {
     "iopub.status.busy": "2024-11-09T21:07:06.993240Z",
     "iopub.status.idle": "2024-11-09T21:07:06.993491Z",
     "shell.execute_reply": "2024-11-09T21:07:06.993369Z",
     "shell.execute_reply.started": "2024-11-09T21:07:06.993357Z"
    },
    "jupyter": {
     "outputs_hidden": false
    }
   },
   "outputs": [],
   "source": [
    "# import necessary things\n",
    "...\n",
    "\n",
    "# load SIDER dataset: SMILES strings and labels\n",
    "smiles_list_sider, y = ...\n",
    "\n",
    "print(f\"Example molecule: {smiles_list[0]}\")\n",
    "print(f\"Example classes: {y[0]}\")\n",
    "print(f\"Number of outputs: {y[0].shape[0]}\")"
   ]
  },
  {
   "cell_type": "code",
   "execution_count": null,
   "id": "bf975f9c0208cc85",
   "metadata": {
    "collapsed": false,
    "execution": {
     "iopub.status.busy": "2024-11-09T21:07:06.994052Z",
     "iopub.status.idle": "2024-11-09T21:07:06.994300Z",
     "shell.execute_reply": "2024-11-09T21:07:06.994187Z",
     "shell.execute_reply.started": "2024-11-09T21:07:06.994175Z"
    },
    "jupyter": {
     "outputs_hidden": false
    }
   },
   "outputs": [],
   "source": [
    "# import necessary things\n",
    "...\n",
    "\n",
    "# parse SMILES as molecules\n",
    "mol_from_smiles = ...\n",
    "mols = ...\n",
    "\n",
    "# scaffold split with 80-20% proportion\n",
    "mols_train, mols_test, y_train, y_test = ...\n",
    "\n",
    "# create standardizer and standardize molecules\n",
    "standardizer = ...\n",
    "\n",
    "mols_train = ...\n",
    "mols_test = ..."
   ]
  },
  {
   "cell_type": "code",
   "execution_count": null,
   "id": "414e53616c0524ed",
   "metadata": {
    "collapsed": false,
    "execution": {
     "iopub.status.busy": "2024-11-09T21:07:06.994937Z",
     "iopub.status.idle": "2024-11-09T21:07:06.995185Z",
     "shell.execute_reply": "2024-11-09T21:07:06.995068Z",
     "shell.execute_reply.started": "2024-11-09T21:07:06.995051Z"
    },
    "jupyter": {
     "outputs_hidden": false
    }
   },
   "outputs": [],
   "source": [
    "# import necessary things\n",
    "...\n",
    "\n",
    "# compute fingerprints\n",
    "ecfp_fp = ...\n",
    "\n",
    "X_train_ecfp = ...\n",
    "X_test_ecfp = ...\n",
    "\n",
    "# train RF classifier\n",
    "rf_clf = ...\n",
    "\n",
    "# predict, extract positive class probabilities\n",
    "...\n",
    "\n",
    "# calculate AUROC\n",
    "...\n"
   ]
  },
  {
   "cell_type": "markdown",
   "id": "e80df4d56347bd01",
   "metadata": {
    "collapsed": false,
    "jupyter": {
     "outputs_hidden": false
    }
   },
   "source": [
    "## 6. Pipelines"
   ]
  },
  {
   "cell_type": "markdown",
   "id": "d7ac80e1-6a5f-42c4-a223-91e13fc78940",
   "metadata": {},
   "source": [
    "In ML, we often have multi-step pipelines, with preprocessing, training multiple models, merging their ensembles etc. We can do the same with scikit-fingerprints. Using many different fingerprints often helps."
   ]
  },
  {
   "cell_type": "code",
   "execution_count": 23,
   "id": "9396ab10-6517-47bc-96b1-f645dc8196fa",
   "metadata": {
    "execution": {
     "iopub.execute_input": "2024-11-09T21:10:42.223076Z",
     "iopub.status.busy": "2024-11-09T21:10:42.222152Z",
     "iopub.status.idle": "2024-11-09T21:10:43.088690Z",
     "shell.execute_reply": "2024-11-09T21:10:43.088051Z",
     "shell.execute_reply.started": "2024-11-09T21:10:42.222988Z"
    }
   },
   "outputs": [],
   "source": [
    "from skfp.datasets.moleculenet import load_bace\n",
    "from skfp.model_selection import scaffold_train_test_split\n",
    "\n",
    "smiles_list, y = load_bace()\n",
    "\n",
    "smiles_train, smiles_test, y_train, y_test = scaffold_train_test_split(\n",
    "    smiles_list, y, test_size=0.2\n",
    ")"
   ]
  },
  {
   "cell_type": "code",
   "execution_count": 24,
   "id": "2342b80d-66c8-4585-9df3-af4c8b52a326",
   "metadata": {
    "execution": {
     "iopub.execute_input": "2024-11-09T21:10:53.860636Z",
     "iopub.status.busy": "2024-11-09T21:10:53.860168Z",
     "iopub.status.idle": "2024-11-09T21:10:54.213956Z",
     "shell.execute_reply": "2024-11-09T21:10:54.213463Z",
     "shell.execute_reply.started": "2024-11-09T21:10:53.860610Z"
    },
    "scrolled": true
   },
   "outputs": [
    {
     "name": "stdout",
     "output_type": "stream",
     "text": [
      "Feature union AUROC for Random Forest: 41.98%\n"
     ]
    }
   ],
   "source": [
    "ecfp = ECFPFingerprint()\n",
    "X_train = ecfp.transform(mols_train)\n",
    "X_test = ecfp.transform(mols_test)\n",
    "\n",
    "clf = RandomForestClassifier(n_jobs=-1, random_state=0)\n",
    "clf.fit(X_train, y_train)\n",
    "y_pred = clf.predict_proba(X_test)[:, 1]\n",
    "\n",
    "auroc = multioutput_auroc_score(y_test, y_pred)\n",
    "print(f\"Feature union AUROC for Random Forest: {auroc:.2%}\")"
   ]
  },
  {
   "cell_type": "code",
   "execution_count": 18,
   "id": "f44c27ebd63b6201",
   "metadata": {
    "collapsed": false,
    "execution": {
     "iopub.execute_input": "2024-11-09T21:08:21.744534Z",
     "iopub.status.busy": "2024-11-09T21:08:21.744297Z",
     "iopub.status.idle": "2024-11-09T21:08:23.997759Z",
     "shell.execute_reply": "2024-11-09T21:08:23.997321Z",
     "shell.execute_reply.started": "2024-11-09T21:08:21.744510Z"
    },
    "jupyter": {
     "outputs_hidden": false
    },
    "scrolled": true
   },
   "outputs": [
    {
     "name": "stdout",
     "output_type": "stream",
     "text": [
      "Feature union AUROC for Random Forest: 40.75%\n"
     ]
    }
   ],
   "source": [
    "from skfp.fingerprints import ECFPFingerprint, TopologicalTorsionFingerprint\n",
    "from sklearn.pipeline import Pipeline, FeatureUnion\n",
    "from sklearn.preprocessing import MinMaxScaler\n",
    "from sklearn.ensemble import RandomForestClassifier\n",
    "\n",
    "fps_union = FeatureUnion(\n",
    "    [\n",
    "        (\"tt_fp\", TopologicalTorsionFingerprint()),\n",
    "        (\"ecfp_fp\", ECFPFingerprint()),\n",
    "    ]\n",
    ")\n",
    "\n",
    "rf_clf = RandomForestClassifier(class_weight=\"balanced\", n_jobs=-1, random_state=0)\n",
    "\n",
    "pipeline = Pipeline(\n",
    "    [\n",
    "        (\"mol_from_smiles\", MolFromSmilesTransformer()),\n",
    "        (\"mol_standardizer\", MolStandardizer()),\n",
    "        (\"fps_union\", fps_union),\n",
    "        (\"scaler\", MinMaxScaler()),\n",
    "        (\"random_forest\", rf_clf),\n",
    "    ]\n",
    ")\n",
    "pipeline.fit(smiles_train, y_train)\n",
    "\n",
    "y_pred = pipeline.predict_proba(smiles_test)[:, 1]\n",
    "\n",
    "auroc = multioutput_auroc_score(y_test, y_pred)\n",
    "print(f\"Feature union AUROC for Random Forest: {auroc:.2%}\")"
   ]
  },
  {
   "cell_type": "markdown",
   "id": "9352c7bdaf124c82",
   "metadata": {
    "collapsed": false,
    "jupyter": {
     "outputs_hidden": false
    }
   },
   "source": [
    "A major breakthrough in pretraining graph neural networks (GNNs) in chemistry was the paper [\"Strategies for Pre-training Graph Neural Networks\" W. Hu et al.](https://arxiv.org/abs/1905.12265). Their best AUROC on BACE was 84.5%. Therefore, we managed to outperform a complex, pretrained GNN using simple molecular fingerprints without any pretraining or sophisticated methods."
   ]
  },
  {
   "cell_type": "markdown",
   "id": "2d47dcdc-fddd-49d8-bcf3-dfa4e590a2f3",
   "metadata": {
    "ExecuteTime": {
     "end_time": "2024-10-26T13:30:28.813123200Z",
     "start_time": "2024-10-26T13:30:28.767117700Z"
    },
    "collapsed": false,
    "jupyter": {
     "outputs_hidden": false
    }
   },
   "source": [
    "## Bonus exercise\n",
    "\n",
    "Peptides are small proteins, with typically up to a few dozen aminoacids. While they are frequently analyzed as text sequences, they are, are all chemistry and biology, molecules built from atoms. Peptide function prediction is an important task in bioinformatics and peptide-based drugs.\n",
    "\n",
    "One dataset from this domain comes from Long Range Graph Benchmark (LRGB), which proposed a 10-task peptide function prediction dataset with over 15k peptide molecules. For details, see [\"Long Range Graph Benchmark\" V. Dwivedi et al.](https://arxiv.org/abs/2206.08164). Perform molecule classification on this dataset, using predetermined benchmark splits. It uses AUPRC (Average Precision, AP) as a metric.\n",
    "\n",
    "1. Load dataset and splits\n",
    "2. Parse aminoacid sequences as molecules (`MolFromAminoseqTransformer` class)\n",
    "3. Split molecules and labels\n",
    "4. Calculate fingerprints, e.g. ECFP, Topological Torsion, EState\n",
    "5. Use multioutput AUPRC score\n",
    "6. Compare results with paper\n",
    "\n",
    "Use [scikit-fingerprints documentation](https://scikit-fingerprints.github.io/scikit-fingerprints/) as necessary."
   ]
  },
  {
   "cell_type": "code",
   "execution_count": null,
   "id": "1a152e04d9c6f14e",
   "metadata": {
    "collapsed": false,
    "jupyter": {
     "outputs_hidden": false
    }
   },
   "outputs": [],
   "source": []
  }
 ],
 "metadata": {
  "kernelspec": {
   "display_name": "Python 3 (ipykernel)",
   "language": "python",
   "name": "python3"
  },
  "language_info": {
   "codemirror_mode": {
    "name": "ipython",
    "version": 3
   },
   "file_extension": ".py",
   "mimetype": "text/x-python",
   "name": "python",
   "nbconvert_exporter": "python",
   "pygments_lexer": "ipython3",
   "version": "3.11.10"
  }
 },
 "nbformat": 4,
 "nbformat_minor": 5
}
